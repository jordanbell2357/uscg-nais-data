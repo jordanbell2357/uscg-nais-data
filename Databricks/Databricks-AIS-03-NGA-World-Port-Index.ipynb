{
 "cells": [
  {
   "cell_type": "markdown",
   "metadata": {
    "application/vnd.databricks.v1+cell": {
     "cellMetadata": {
      "byteLimit": 2048000,
      "rowLimit": 10000
     },
     "inputWidgets": {},
     "nuid": "63070b7d-45db-4468-bb50-ff1cc0f29533",
     "showTitle": false,
     "title": ""
    }
   },
   "source": [
    "[Leveraging ESG Data to Operationalize Sustainability. November 11, 2020. Antoine Amend. Databricks](https://www.databricks.com/blog/2020/11/11/leveraging-esg-data-to-operationalize-sustainability.html)"
   ]
  },
  {
   "cell_type": "markdown",
   "metadata": {
    "application/vnd.databricks.v1+cell": {
     "cellMetadata": {
      "byteLimit": 2048000,
      "rowLimit": 10000
     },
     "inputWidgets": {},
     "nuid": "954dc866-4f12-4405-8f25-60e5e39cac71",
     "showTitle": false,
     "title": ""
    }
   },
   "source": [
    "https://www.databricks.com/notebooks/esgops_notebooks/01_vessel_etl.html"
   ]
  },
  {
   "cell_type": "code",
   "execution_count": 0,
   "metadata": {
    "application/vnd.databricks.v1+cell": {
     "cellMetadata": {
      "byteLimit": 2048000,
      "rowLimit": 10000
     },
     "inputWidgets": {},
     "nuid": "8f5dcf41-7620-4b4b-a607-0385b61b18e1",
     "showTitle": false,
     "title": ""
    }
   },
   "outputs": [
    {
     "output_type": "stream",
     "name": "stdout",
     "output_type": "stream",
     "text": [
      "Out[67]: True"
     ]
    }
   ],
   "source": [
    "dbutils.fs.mkdirs(\"/nga\")"
   ]
  },
  {
   "cell_type": "code",
   "execution_count": 0,
   "metadata": {
    "application/vnd.databricks.v1+cell": {
     "cellMetadata": {
      "byteLimit": 2048000,
      "rowLimit": 10000
     },
     "inputWidgets": {},
     "nuid": "0d15aa79-914b-4584-a47a-9c460ca8fc9b",
     "showTitle": false,
     "title": ""
    }
   },
   "outputs": [
    {
     "output_type": "stream",
     "name": "stdout",
     "output_type": "stream",
     "text": [
      "  % Total    % Received % Xferd  Average Speed   Time    Time     Time  Current\n                                 Dload  Upload   Total   Spent    Left  Speed\n\n  0     0    0     0    0     0      0      0 --:--:-- --:--:-- --:--:--     0\n  0     0    0     0    0     0      0      0 --:--:-- --:--:-- --:--:--     0\n100 3183k    0 3183k    0     0  5135k      0 --:--:-- --:--:-- --:--:-- 5126k\n"
     ]
    }
   ],
   "source": [
    "%sh\n",
    "cd /dbfs/nga\n",
    "curl -o UpdatedPub150.csv \"https://msi.nga.mil/api/publications/download?type=view&key=16920959/SFH00000/UpdatedPub150.csv\""
   ]
  },
  {
   "cell_type": "code",
   "execution_count": 0,
   "metadata": {
    "application/vnd.databricks.v1+cell": {
     "cellMetadata": {
      "byteLimit": 2048000,
      "rowLimit": 10000
     },
     "inputWidgets": {},
     "nuid": "af88a532-d63f-494f-83f8-1600fbd211ea",
     "showTitle": false,
     "title": ""
    }
   },
   "outputs": [
    {
     "output_type": "stream",
     "name": "stdout",
     "output_type": "stream",
     "text": [
      "UpdatedPub150.csv\n"
     ]
    }
   ],
   "source": [
    "%sh\n",
    "ls /dbfs/nga"
   ]
  },
  {
   "cell_type": "code",
   "execution_count": 0,
   "metadata": {
    "application/vnd.databricks.v1+cell": {
     "cellMetadata": {
      "byteLimit": 2048000,
      "rowLimit": 10000
     },
     "inputWidgets": {},
     "nuid": "5f704a3e-0c11-4068-a1b4-cf70597db283",
     "showTitle": false,
     "title": ""
    }
   },
   "outputs": [
    {
     "output_type": "stream",
     "name": "stdout",
     "output_type": "stream",
     "text": [
      "World Port Index Number,Region Name,Main Port Name,Alternate Port Name,UN/LOCODE,Country Code,World Water Body,IHO S-130 Sea Area,Sailing Direction or Publication,Publication Link,Standard Nautical Chart,IHO S-57 Electronic Navigational Chart,IHO S-101 Electronic Navigational Chart,Digital Nautical Chart,Tidal Range (m),Entrance Width (m),Channel Depth (m),Anchorage Depth (m),Cargo Pier Depth (m),Oil Terminal Depth (m),Liquified Natural Gas Terminal Depth (m),Maximum Vessel Length (m),Maximum Vessel Beam (m),Maximum Vessel Draft (m),Offshore Maximum Vessel Length (m),Offshore Maximum Vessel Beam (m),Offshore Maximum Vessel Draft (m),Harbor Size,Harbor Type,Harbor Use,Shelter Afforded,Entrance Restriction - Tide,Entrance Restriction - Heavy Swell,Entrance Restriction - Ice,Entrance Restriction - Other,Overhead Limits,Underkeel Clearance Management System,Good Holding Ground,Turning Area,Port Security,Estimated Time of Arrival Message,Quarantine - Pratique,Quarantine - Sanitation,Quarantine - Other,Traffic Separation Scheme,Vessel Traffic Service,First Port of Entry,US Representative,Pilotage - Compulsory,Pilotage - Available,Pilotage - Local Assistance,Pilotage - Advisable,Tugs - Salvage,Tugs - Assistance,Communications - Telephone,Communications - Telefax,Communications - Radio,Communications - Radiotelephone,Communications - Airport,Communications - Rail,Search and Rescue,NAVAREA,Facilities - Wharves,Facilities - Anchorage,Facilities - Dangerous Cargo Anchorage,Facilities - Med Mooring,Facilities - Beach Mooring,Facilities - Ice Mooring,Facilities - Ro-Ro,Facilities - Solid Bulk,Facilities - Liquid Bulk,Facilities - Container,Facilities - Breakbulk,Facilities - Oil Terminal,Facilities - LNG Terminal,Facilities - Other,Medical Facilities,Garbage Disposal,Chemical Holding Tank Disposal,Degaussing,Dirty Ballast Disposal,Cranes - Fixed,Cranes - Mobile,Cranes - Floating,Cranes - Container,Lifts - 100+ Tons,Lifts - 50-100 Tons,Lifts - 25-49 Tons,Lifts - 0-24 Tons,Services - Longshoremen,Services - Electricity,Services - Steam,Services - Navigation Equipment,Services - Electrical Repair,Services - Ice Breaking,Services - Diving,Supplies - Provisions,Supplies - Potable Water,Supplies - Fuel Oil,Supplies - Diesel Oil,Supplies - Aviation Fuel,Supplies - Deck,Supplies - Engine,Repairs,Dry Dock,Railway,Latitude,Longitude\n"
     ]
    }
   ],
   "source": [
    "%sh\n",
    "head -n 1 /dbfs/nga/UpdatedPub150.csv"
   ]
  },
  {
   "cell_type": "code",
   "execution_count": 0,
   "metadata": {
    "application/vnd.databricks.v1+cell": {
     "cellMetadata": {
      "byteLimit": 2048000,
      "rowLimit": 10000
     },
     "inputWidgets": {},
     "nuid": "ab75f23c-5fba-4a1d-9a8e-5564d71b44a8",
     "showTitle": false,
     "title": ""
    }
   },
   "outputs": [
    {
     "output_type": "stream",
     "name": "stdout",
     "output_type": "stream",
     "text": [
      "Out[71]: True"
     ]
    }
   ],
   "source": [
    "dbutils.fs.cp(\"/nga/UpdatedPub150.csv\", \"dbfs:/FileStore/tables/UpdatedPub150.csv\")"
   ]
  },
  {
   "cell_type": "code",
   "execution_count": 0,
   "metadata": {
    "application/vnd.databricks.v1+cell": {
     "cellMetadata": {
      "byteLimit": 2048000,
      "rowLimit": 10000
     },
     "inputWidgets": {},
     "nuid": "738da5a9-407b-4b6f-b474-c61bb8d1c3dc",
     "showTitle": false,
     "title": ""
    }
   },
   "outputs": [
    {
     "output_type": "display_data",
     "data": {
      "text/html": [
       "<style scoped>\n",
       "  .ansiout {\n",
       "    display: block;\n",
       "    unicode-bidi: embed;\n",
       "    white-space: pre-wrap;\n",
       "    word-wrap: break-word;\n",
       "    word-break: break-all;\n",
       "    font-family: \"Source Code Pro\", \"Menlo\", monospace;;\n",
       "    font-size: 13px;\n",
       "    color: #555;\n",
       "    margin-left: 4px;\n",
       "    line-height: 19px;\n",
       "  }\n",
       "</style>\n",
       "<div class=\"ansiout\">import org.apache.spark.sql.functions._\n",
       "import org.apache.spark.sql.types.IntegerType\n",
       "path: String = dbfs:/FileStore/tables/UpdatedPub150.csv\n",
       "df: org.apache.spark.sql.DataFrame = [World Port Index Number: double, Region Name: string ... 106 more fields]\n",
       "newCols: Array[String] = Array(World_Port_Index_Number, Region_Name, Main_Port_Name, Alternate_Port_Name, UN/LOCODE, Country_Code, World_Water_Body, IHO_S-130_Sea_Area, Sailing_Direction_or_Publication, Publication_Link, Standard_Nautical_Chart, IHO_S-57_Electronic_Navigational_Chart, IHO_S-101_Electronic_Navigational_Chart, Digital_Nautical_Chart, Tidal_Range__m_, Entrance_Width__m_, Channel_Depth__m_, Anchorage_Depth__m_, Cargo_Pier_Depth__m_, Oil_Terminal_Depth__m_, Liquified_Natural_Gas_Terminal_Depth__m_, Maximum_Vessel_Length__m_, Maximum_Vessel_Beam__m_, Maximum_Vessel_Draft__m_, Offshore_Maximum_Vessel_Length__m_, Offshore_Maximum_Vessel_Beam__m_, Offshore_Maximum_Vessel_Draft__m_, Harbor_Size, Harbor_Type, Harbor_Use, Shelter_Afforded, Entrance_Restriction_-_Tide, Entrance_Restriction_-_Heavy_Swell, Entrance_Restriction_-_Ice, Entrance_Restriction_-_Other, Overhead_Limits, Underkeel_Clearance_Management_System, Good_Holding_Ground, Turning_Area, Port_Security, Estimated_Time_of_Arrival_Message, Quarantine_-_Pratique, Quarantine_-_Sanitation, Quarantine_-_Other, Traffic_Separation_Scheme, Vessel_Traffic_Service, First_Port_of_Entry, US_Representative, Pilotage_-_Compulsory, Pilotage_-_Available, Pilotage_-_Local_Assistance, Pilotage_-_Advisable, Tugs_-_Salvage, Tugs_-_Assistance, Communications_-_Telephone, Communications_-_Telefax, Communications_-_Radio, Communications_-_Radiotelephone, Communications_-_Airport, Communications_-_Rail, Search_and_Rescue, NAVAREA, Facilities_-_Wharves, Facilities_-_Anchorage, Facilities_-_Dangerous_Cargo_Anchorage, Facilities_-_Med_Mooring, Facilities_-_Beach_Mooring, Facilities_-_Ice_Mooring, Facilities_-_Ro-Ro, Facilities_-_Solid_Bulk, Facilities_-_Liquid_Bulk, Facilities_-_Container, Facilities_-_Breakbulk, Facilities_-_Oil_Terminal, Facilities_-_LNG_Terminal, Facilities_-_Other, Medical_Facilities, Garbage_Disposal, Chemical_Holding_Tank_Disposal, Degaussing, Dirty_Ballast_Disposal, Cranes_-_Fixed, Cranes_-_Mobile, Cranes_-_Floating, Cranes_-_Container, Lifts_-_100+_Tons, Lifts_-_50-100_Tons, Lifts_-_25-49_Tons, Lifts_-_0-24_Tons, Services_-_Longshoremen, Services_-_Electricity, Services_-_Steam, Services_-_Navigation_Equipment, Services_-_Electrical_Repair, Services_-_Ice_Breaking, Services_-_Diving, Supplies_-_Provisions, Supplies_-_Potable_Water, Supplies_-_Fuel_Oil, Supplies_-_Diesel_Oil, Supplies_-_Aviation_Fuel, Supplies_-_Deck, Supplies_-_Engine, Repairs, Dry_Dock, Railway, Latitude, Longitude)\n",
       "dfRenamed: org.apache.spark.sql.DataFrame = [World_Port_Index_Number: double, Region_Name: string ... 106 more fields]\n",
       "dfWithIntegerColumn: org.apache.spark.sql.DataFrame = [World_Port_Index_Number: int, Region_Name: string ... 106 more fields]\n",
       "dfWithFileName: org.apache.spark.sql.DataFrame = [World_Port_Index_Number: int, Region_Name: string ... 107 more fields]\n",
       "</div>"
      ]
     },
     "metadata": {
      "application/vnd.databricks.v1+output": {
       "addedWidgets": {},
       "arguments": {},
       "data": "<div class=\"ansiout\">import org.apache.spark.sql.functions._\nimport org.apache.spark.sql.types.IntegerType\npath: String = dbfs:/FileStore/tables/UpdatedPub150.csv\ndf: org.apache.spark.sql.DataFrame = [World Port Index Number: double, Region Name: string ... 106 more fields]\nnewCols: Array[String] = Array(World_Port_Index_Number, Region_Name, Main_Port_Name, Alternate_Port_Name, UN/LOCODE, Country_Code, World_Water_Body, IHO_S-130_Sea_Area, Sailing_Direction_or_Publication, Publication_Link, Standard_Nautical_Chart, IHO_S-57_Electronic_Navigational_Chart, IHO_S-101_Electronic_Navigational_Chart, Digital_Nautical_Chart, Tidal_Range__m_, Entrance_Width__m_, Channel_Depth__m_, Anchorage_Depth__m_, Cargo_Pier_Depth__m_, Oil_Terminal_Depth__m_, Liquified_Natural_Gas_Terminal_Depth__m_, Maximum_Vessel_Length__m_, Maximum_Vessel_Beam__m_, Maximum_Vessel_Draft__m_, Offshore_Maximum_Vessel_Length__m_, Offshore_Maximum_Vessel_Beam__m_, Offshore_Maximum_Vessel_Draft__m_, Harbor_Size, Harbor_Type, Harbor_Use, Shelter_Afforded, Entrance_Restriction_-_Tide, Entrance_Restriction_-_Heavy_Swell, Entrance_Restriction_-_Ice, Entrance_Restriction_-_Other, Overhead_Limits, Underkeel_Clearance_Management_System, Good_Holding_Ground, Turning_Area, Port_Security, Estimated_Time_of_Arrival_Message, Quarantine_-_Pratique, Quarantine_-_Sanitation, Quarantine_-_Other, Traffic_Separation_Scheme, Vessel_Traffic_Service, First_Port_of_Entry, US_Representative, Pilotage_-_Compulsory, Pilotage_-_Available, Pilotage_-_Local_Assistance, Pilotage_-_Advisable, Tugs_-_Salvage, Tugs_-_Assistance, Communications_-_Telephone, Communications_-_Telefax, Communications_-_Radio, Communications_-_Radiotelephone, Communications_-_Airport, Communications_-_Rail, Search_and_Rescue, NAVAREA, Facilities_-_Wharves, Facilities_-_Anchorage, Facilities_-_Dangerous_Cargo_Anchorage, Facilities_-_Med_Mooring, Facilities_-_Beach_Mooring, Facilities_-_Ice_Mooring, Facilities_-_Ro-Ro, Facilities_-_Solid_Bulk, Facilities_-_Liquid_Bulk, Facilities_-_Container, Facilities_-_Breakbulk, Facilities_-_Oil_Terminal, Facilities_-_LNG_Terminal, Facilities_-_Other, Medical_Facilities, Garbage_Disposal, Chemical_Holding_Tank_Disposal, Degaussing, Dirty_Ballast_Disposal, Cranes_-_Fixed, Cranes_-_Mobile, Cranes_-_Floating, Cranes_-_Container, Lifts_-_100+_Tons, Lifts_-_50-100_Tons, Lifts_-_25-49_Tons, Lifts_-_0-24_Tons, Services_-_Longshoremen, Services_-_Electricity, Services_-_Steam, Services_-_Navigation_Equipment, Services_-_Electrical_Repair, Services_-_Ice_Breaking, Services_-_Diving, Supplies_-_Provisions, Supplies_-_Potable_Water, Supplies_-_Fuel_Oil, Supplies_-_Diesel_Oil, Supplies_-_Aviation_Fuel, Supplies_-_Deck, Supplies_-_Engine, Repairs, Dry_Dock, Railway, Latitude, Longitude)\ndfRenamed: org.apache.spark.sql.DataFrame = [World_Port_Index_Number: double, Region_Name: string ... 106 more fields]\ndfWithIntegerColumn: org.apache.spark.sql.DataFrame = [World_Port_Index_Number: int, Region_Name: string ... 106 more fields]\ndfWithFileName: org.apache.spark.sql.DataFrame = [World_Port_Index_Number: int, Region_Name: string ... 107 more fields]\n</div>",
       "datasetInfos": [
        {
         "name": "df",
         "schema": {
          "fields": [
           {
            "metadata": {},
            "name": "World Port Index Number",
            "nullable": true,
            "type": "double"
           },
           {
            "metadata": {},
            "name": "Region Name",
            "nullable": true,
            "type": "string"
           },
           {
            "metadata": {},
            "name": "Main Port Name",
            "nullable": true,
            "type": "string"
           },
           {
            "metadata": {},
            "name": "Alternate Port Name",
            "nullable": true,
            "type": "string"
           },
           {
            "metadata": {},
            "name": "UN/LOCODE",
            "nullable": true,
            "type": "string"
           },
           {
            "metadata": {},
            "name": "Country Code",
            "nullable": true,
            "type": "string"
           },
           {
            "metadata": {},
            "name": "World Water Body",
            "nullable": true,
            "type": "string"
           },
           {
            "metadata": {},
            "name": "IHO S-130 Sea Area",
            "nullable": true,
            "type": "string"
           },
           {
            "metadata": {},
            "name": "Sailing Direction or Publication",
            "nullable": true,
            "type": "string"
           },
           {
            "metadata": {},
            "name": "Publication Link",
            "nullable": true,
            "type": "string"
           },
           {
            "metadata": {},
            "name": "Standard Nautical Chart",
            "nullable": true,
            "type": "string"
           },
           {
            "metadata": {},
            "name": "IHO S-57 Electronic Navigational Chart",
            "nullable": true,
            "type": "string"
           },
           {
            "metadata": {},
            "name": "IHO S-101 Electronic Navigational Chart",
            "nullable": true,
            "type": "string"
           },
           {
            "metadata": {},
            "name": "Digital Nautical Chart",
            "nullable": true,
            "type": "string"
           },
           {
            "metadata": {},
            "name": "Tidal Range (m)",
            "nullable": true,
            "type": "double"
           },
           {
            "metadata": {},
            "name": "Entrance Width (m)",
            "nullable": true,
            "type": "double"
           },
           {
            "metadata": {},
            "name": "Channel Depth (m)",
            "nullable": true,
            "type": "double"
           },
           {
            "metadata": {},
            "name": "Anchorage Depth (m)",
            "nullable": true,
            "type": "double"
           },
           {
            "metadata": {},
            "name": "Cargo Pier Depth (m)",
            "nullable": true,
            "type": "double"
           },
           {
            "metadata": {},
            "name": "Oil Terminal Depth (m)",
            "nullable": true,
            "type": "double"
           },
           {
            "metadata": {},
            "name": "Liquified Natural Gas Terminal Depth (m)",
            "nullable": true,
            "type": "double"
           },
           {
            "metadata": {},
            "name": "Maximum Vessel Length (m)",
            "nullable": true,
            "type": "double"
           },
           {
            "metadata": {},
            "name": "Maximum Vessel Beam (m)",
            "nullable": true,
            "type": "double"
           },
           {
            "metadata": {},
            "name": "Maximum Vessel Draft (m)",
            "nullable": true,
            "type": "double"
           },
           {
            "metadata": {},
            "name": "Offshore Maximum Vessel Length (m)",
            "nullable": true,
            "type": "double"
           },
           {
            "metadata": {},
            "name": "Offshore Maximum Vessel Beam (m)",
            "nullable": true,
            "type": "integer"
           },
           {
            "metadata": {},
            "name": "Offshore Maximum Vessel Draft (m)",
            "nullable": true,
            "type": "double"
           },
           {
            "metadata": {},
            "name": "Harbor Size",
            "nullable": true,
            "type": "string"
           },
           {
            "metadata": {},
            "name": "Harbor Type",
            "nullable": true,
            "type": "string"
           },
           {
            "metadata": {},
            "name": "Harbor Use",
            "nullable": true,
            "type": "string"
           },
           {
            "metadata": {},
            "name": "Shelter Afforded",
            "nullable": true,
            "type": "string"
           },
           {
            "metadata": {},
            "name": "Entrance Restriction - Tide",
            "nullable": true,
            "type": "string"
           },
           {
            "metadata": {},
            "name": "Entrance Restriction - Heavy Swell",
            "nullable": true,
            "type": "string"
           },
           {
            "metadata": {},
            "name": "Entrance Restriction - Ice",
            "nullable": true,
            "type": "string"
           },
           {
            "metadata": {},
            "name": "Entrance Restriction - Other",
            "nullable": true,
            "type": "string"
           },
           {
            "metadata": {},
            "name": "Overhead Limits",
            "nullable": true,
            "type": "string"
           },
           {
            "metadata": {},
            "name": "Underkeel Clearance Management System",
            "nullable": true,
            "type": "string"
           },
           {
            "metadata": {},
            "name": "Good Holding Ground",
            "nullable": true,
            "type": "string"
           },
           {
            "metadata": {},
            "name": "Turning Area",
            "nullable": true,
            "type": "string"
           },
           {
            "metadata": {},
            "name": "Port Security",
            "nullable": true,
            "type": "string"
           },
           {
            "metadata": {},
            "name": "Estimated Time of Arrival Message",
            "nullable": true,
            "type": "string"
           },
           {
            "metadata": {},
            "name": "Quarantine - Pratique",
            "nullable": true,
            "type": "string"
           },
           {
            "metadata": {},
            "name": "Quarantine - Sanitation",
            "nullable": true,
            "type": "string"
           },
           {
            "metadata": {},
            "name": "Quarantine - Other",
            "nullable": true,
            "type": "string"
           },
           {
            "metadata": {},
            "name": "Traffic Separation Scheme",
            "nullable": true,
            "type": "string"
           },
           {
            "metadata": {},
            "name": "Vessel Traffic Service",
            "nullable": true,
            "type": "string"
           },
           {
            "metadata": {},
            "name": "First Port of Entry",
            "nullable": true,
            "type": "string"
           },
           {
            "metadata": {},
            "name": "US Representative",
            "nullable": true,
            "type": "string"
           },
           {
            "metadata": {},
            "name": "Pilotage - Compulsory",
            "nullable": true,
            "type": "string"
           },
           {
            "metadata": {},
            "name": "Pilotage - Available",
            "nullable": true,
            "type": "string"
           },
           {
            "metadata": {},
            "name": "Pilotage - Local Assistance",
            "nullable": true,
            "type": "string"
           },
           {
            "metadata": {},
            "name": "Pilotage - Advisable",
            "nullable": true,
            "type": "string"
           },
           {
            "metadata": {},
            "name": "Tugs - Salvage",
            "nullable": true,
            "type": "string"
           },
           {
            "metadata": {},
            "name": "Tugs - Assistance",
            "nullable": true,
            "type": "string"
           },
           {
            "metadata": {},
            "name": "Communications - Telephone",
            "nullable": true,
            "type": "string"
           },
           {
            "metadata": {},
            "name": "Communications - Telefax",
            "nullable": true,
            "type": "string"
           },
           {
            "metadata": {},
            "name": "Communications - Radio",
            "nullable": true,
            "type": "string"
           },
           {
            "metadata": {},
            "name": "Communications - Radiotelephone",
            "nullable": true,
            "type": "string"
           },
           {
            "metadata": {},
            "name": "Communications - Airport",
            "nullable": true,
            "type": "string"
           },
           {
            "metadata": {},
            "name": "Communications - Rail",
            "nullable": true,
            "type": "string"
           },
           {
            "metadata": {},
            "name": "Search and Rescue",
            "nullable": true,
            "type": "string"
           },
           {
            "metadata": {},
            "name": "NAVAREA",
            "nullable": true,
            "type": "string"
           },
           {
            "metadata": {},
            "name": "Facilities - Wharves",
            "nullable": true,
            "type": "string"
           },
           {
            "metadata": {},
            "name": "Facilities - Anchorage",
            "nullable": true,
            "type": "string"
           },
           {
            "metadata": {},
            "name": "Facilities - Dangerous Cargo Anchorage",
            "nullable": true,
            "type": "string"
           },
           {
            "metadata": {},
            "name": "Facilities - Med Mooring",
            "nullable": true,
            "type": "string"
           },
           {
            "metadata": {},
            "name": "Facilities - Beach Mooring",
            "nullable": true,
            "type": "string"
           },
           {
            "metadata": {},
            "name": "Facilities - Ice Mooring",
            "nullable": true,
            "type": "string"
           },
           {
            "metadata": {},
            "name": "Facilities - Ro-Ro",
            "nullable": true,
            "type": "string"
           },
           {
            "metadata": {},
            "name": "Facilities - Solid Bulk",
            "nullable": true,
            "type": "string"
           },
           {
            "metadata": {},
            "name": "Facilities - Liquid Bulk",
            "nullable": true,
            "type": "string"
           },
           {
            "metadata": {},
            "name": "Facilities - Container",
            "nullable": true,
            "type": "string"
           },
           {
            "metadata": {},
            "name": "Facilities - Breakbulk",
            "nullable": true,
            "type": "string"
           },
           {
            "metadata": {},
            "name": "Facilities - Oil Terminal",
            "nullable": true,
            "type": "string"
           },
           {
            "metadata": {},
            "name": "Facilities - LNG Terminal",
            "nullable": true,
            "type": "string"
           },
           {
            "metadata": {},
            "name": "Facilities - Other",
            "nullable": true,
            "type": "string"
           },
           {
            "metadata": {},
            "name": "Medical Facilities",
            "nullable": true,
            "type": "string"
           },
           {
            "metadata": {},
            "name": "Garbage Disposal",
            "nullable": true,
            "type": "string"
           },
           {
            "metadata": {},
            "name": "Chemical Holding Tank Disposal",
            "nullable": true,
            "type": "string"
           },
           {
            "metadata": {},
            "name": "Degaussing",
            "nullable": true,
            "type": "string"
           },
           {
            "metadata": {},
            "name": "Dirty Ballast Disposal",
            "nullable": true,
            "type": "string"
           },
           {
            "metadata": {},
            "name": "Cranes - Fixed",
            "nullable": true,
            "type": "string"
           },
           {
            "metadata": {},
            "name": "Cranes - Mobile",
            "nullable": true,
            "type": "string"
           },
           {
            "metadata": {},
            "name": "Cranes - Floating",
            "nullable": true,
            "type": "string"
           },
           {
            "metadata": {},
            "name": "Cranes - Container",
            "nullable": true,
            "type": "string"
           },
           {
            "metadata": {},
            "name": "Lifts - 100+ Tons",
            "nullable": true,
            "type": "string"
           },
           {
            "metadata": {},
            "name": "Lifts - 50-100 Tons",
            "nullable": true,
            "type": "string"
           },
           {
            "metadata": {},
            "name": "Lifts - 25-49 Tons",
            "nullable": true,
            "type": "string"
           },
           {
            "metadata": {},
            "name": "Lifts - 0-24 Tons",
            "nullable": true,
            "type": "string"
           },
           {
            "metadata": {},
            "name": "Services - Longshoremen",
            "nullable": true,
            "type": "string"
           },
           {
            "metadata": {},
            "name": "Services - Electricity",
            "nullable": true,
            "type": "string"
           },
           {
            "metadata": {},
            "name": "Services - Steam",
            "nullable": true,
            "type": "string"
           },
           {
            "metadata": {},
            "name": "Services - Navigation Equipment",
            "nullable": true,
            "type": "string"
           },
           {
            "metadata": {},
            "name": "Services - Electrical Repair",
            "nullable": true,
            "type": "string"
           },
           {
            "metadata": {},
            "name": "Services - Ice Breaking",
            "nullable": true,
            "type": "string"
           },
           {
            "metadata": {},
            "name": "Services - Diving",
            "nullable": true,
            "type": "string"
           },
           {
            "metadata": {},
            "name": "Supplies - Provisions",
            "nullable": true,
            "type": "string"
           },
           {
            "metadata": {},
            "name": "Supplies - Potable Water",
            "nullable": true,
            "type": "string"
           },
           {
            "metadata": {},
            "name": "Supplies - Fuel Oil",
            "nullable": true,
            "type": "string"
           },
           {
            "metadata": {},
            "name": "Supplies - Diesel Oil",
            "nullable": true,
            "type": "string"
           },
           {
            "metadata": {},
            "name": "Supplies - Aviation Fuel",
            "nullable": true,
            "type": "string"
           },
           {
            "metadata": {},
            "name": "Supplies - Deck",
            "nullable": true,
            "type": "string"
           },
           {
            "metadata": {},
            "name": "Supplies - Engine",
            "nullable": true,
            "type": "string"
           },
           {
            "metadata": {},
            "name": "Repairs",
            "nullable": true,
            "type": "string"
           },
           {
            "metadata": {},
            "name": "Dry Dock",
            "nullable": true,
            "type": "string"
           },
           {
            "metadata": {},
            "name": "Railway",
            "nullable": true,
            "type": "string"
           },
           {
            "metadata": {},
            "name": "Latitude",
            "nullable": true,
            "type": "double"
           },
           {
            "metadata": {},
            "name": "Longitude",
            "nullable": true,
            "type": "double"
           }
          ],
          "type": "struct"
         },
         "tableIdentifier": null,
         "typeStr": "org.apache.spark.sql.DataFrame"
        },
        {
         "name": "dfRenamed",
         "schema": {
          "fields": [
           {
            "metadata": {},
            "name": "World_Port_Index_Number",
            "nullable": true,
            "type": "double"
           },
           {
            "metadata": {},
            "name": "Region_Name",
            "nullable": true,
            "type": "string"
           },
           {
            "metadata": {},
            "name": "Main_Port_Name",
            "nullable": true,
            "type": "string"
           },
           {
            "metadata": {},
            "name": "Alternate_Port_Name",
            "nullable": true,
            "type": "string"
           },
           {
            "metadata": {},
            "name": "UN/LOCODE",
            "nullable": true,
            "type": "string"
           },
           {
            "metadata": {},
            "name": "Country_Code",
            "nullable": true,
            "type": "string"
           },
           {
            "metadata": {},
            "name": "World_Water_Body",
            "nullable": true,
            "type": "string"
           },
           {
            "metadata": {},
            "name": "IHO_S-130_Sea_Area",
            "nullable": true,
            "type": "string"
           },
           {
            "metadata": {},
            "name": "Sailing_Direction_or_Publication",
            "nullable": true,
            "type": "string"
           },
           {
            "metadata": {},
            "name": "Publication_Link",
            "nullable": true,
            "type": "string"
           },
           {
            "metadata": {},
            "name": "Standard_Nautical_Chart",
            "nullable": true,
            "type": "string"
           },
           {
            "metadata": {},
            "name": "IHO_S-57_Electronic_Navigational_Chart",
            "nullable": true,
            "type": "string"
           },
           {
            "metadata": {},
            "name": "IHO_S-101_Electronic_Navigational_Chart",
            "nullable": true,
            "type": "string"
           },
           {
            "metadata": {},
            "name": "Digital_Nautical_Chart",
            "nullable": true,
            "type": "string"
           },
           {
            "metadata": {},
            "name": "Tidal_Range__m_",
            "nullable": true,
            "type": "double"
           },
           {
            "metadata": {},
            "name": "Entrance_Width__m_",
            "nullable": true,
            "type": "double"
           },
           {
            "metadata": {},
            "name": "Channel_Depth__m_",
            "nullable": true,
            "type": "double"
           },
           {
            "metadata": {},
            "name": "Anchorage_Depth__m_",
            "nullable": true,
            "type": "double"
           },
           {
            "metadata": {},
            "name": "Cargo_Pier_Depth__m_",
            "nullable": true,
            "type": "double"
           },
           {
            "metadata": {},
            "name": "Oil_Terminal_Depth__m_",
            "nullable": true,
            "type": "double"
           },
           {
            "metadata": {},
            "name": "Liquified_Natural_Gas_Terminal_Depth__m_",
            "nullable": true,
            "type": "double"
           },
           {
            "metadata": {},
            "name": "Maximum_Vessel_Length__m_",
            "nullable": true,
            "type": "double"
           },
           {
            "metadata": {},
            "name": "Maximum_Vessel_Beam__m_",
            "nullable": true,
            "type": "double"
           },
           {
            "metadata": {},
            "name": "Maximum_Vessel_Draft__m_",
            "nullable": true,
            "type": "double"
           },
           {
            "metadata": {},
            "name": "Offshore_Maximum_Vessel_Length__m_",
            "nullable": true,
            "type": "double"
           },
           {
            "metadata": {},
            "name": "Offshore_Maximum_Vessel_Beam__m_",
            "nullable": true,
            "type": "integer"
           },
           {
            "metadata": {},
            "name": "Offshore_Maximum_Vessel_Draft__m_",
            "nullable": true,
            "type": "double"
           },
           {
            "metadata": {},
            "name": "Harbor_Size",
            "nullable": true,
            "type": "string"
           },
           {
            "metadata": {},
            "name": "Harbor_Type",
            "nullable": true,
            "type": "string"
           },
           {
            "metadata": {},
            "name": "Harbor_Use",
            "nullable": true,
            "type": "string"
           },
           {
            "metadata": {},
            "name": "Shelter_Afforded",
            "nullable": true,
            "type": "string"
           },
           {
            "metadata": {},
            "name": "Entrance_Restriction_-_Tide",
            "nullable": true,
            "type": "string"
           },
           {
            "metadata": {},
            "name": "Entrance_Restriction_-_Heavy_Swell",
            "nullable": true,
            "type": "string"
           },
           {
            "metadata": {},
            "name": "Entrance_Restriction_-_Ice",
            "nullable": true,
            "type": "string"
           },
           {
            "metadata": {},
            "name": "Entrance_Restriction_-_Other",
            "nullable": true,
            "type": "string"
           },
           {
            "metadata": {},
            "name": "Overhead_Limits",
            "nullable": true,
            "type": "string"
           },
           {
            "metadata": {},
            "name": "Underkeel_Clearance_Management_System",
            "nullable": true,
            "type": "string"
           },
           {
            "metadata": {},
            "name": "Good_Holding_Ground",
            "nullable": true,
            "type": "string"
           },
           {
            "metadata": {},
            "name": "Turning_Area",
            "nullable": true,
            "type": "string"
           },
           {
            "metadata": {},
            "name": "Port_Security",
            "nullable": true,
            "type": "string"
           },
           {
            "metadata": {},
            "name": "Estimated_Time_of_Arrival_Message",
            "nullable": true,
            "type": "string"
           },
           {
            "metadata": {},
            "name": "Quarantine_-_Pratique",
            "nullable": true,
            "type": "string"
           },
           {
            "metadata": {},
            "name": "Quarantine_-_Sanitation",
            "nullable": true,
            "type": "string"
           },
           {
            "metadata": {},
            "name": "Quarantine_-_Other",
            "nullable": true,
            "type": "string"
           },
           {
            "metadata": {},
            "name": "Traffic_Separation_Scheme",
            "nullable": true,
            "type": "string"
           },
           {
            "metadata": {},
            "name": "Vessel_Traffic_Service",
            "nullable": true,
            "type": "string"
           },
           {
            "metadata": {},
            "name": "First_Port_of_Entry",
            "nullable": true,
            "type": "string"
           },
           {
            "metadata": {},
            "name": "US_Representative",
            "nullable": true,
            "type": "string"
           },
           {
            "metadata": {},
            "name": "Pilotage_-_Compulsory",
            "nullable": true,
            "type": "string"
           },
           {
            "metadata": {},
            "name": "Pilotage_-_Available",
            "nullable": true,
            "type": "string"
           },
           {
            "metadata": {},
            "name": "Pilotage_-_Local_Assistance",
            "nullable": true,
            "type": "string"
           },
           {
            "metadata": {},
            "name": "Pilotage_-_Advisable",
            "nullable": true,
            "type": "string"
           },
           {
            "metadata": {},
            "name": "Tugs_-_Salvage",
            "nullable": true,
            "type": "string"
           },
           {
            "metadata": {},
            "name": "Tugs_-_Assistance",
            "nullable": true,
            "type": "string"
           },
           {
            "metadata": {},
            "name": "Communications_-_Telephone",
            "nullable": true,
            "type": "string"
           },
           {
            "metadata": {},
            "name": "Communications_-_Telefax",
            "nullable": true,
            "type": "string"
           },
           {
            "metadata": {},
            "name": "Communications_-_Radio",
            "nullable": true,
            "type": "string"
           },
           {
            "metadata": {},
            "name": "Communications_-_Radiotelephone",
            "nullable": true,
            "type": "string"
           },
           {
            "metadata": {},
            "name": "Communications_-_Airport",
            "nullable": true,
            "type": "string"
           },
           {
            "metadata": {},
            "name": "Communications_-_Rail",
            "nullable": true,
            "type": "string"
           },
           {
            "metadata": {},
            "name": "Search_and_Rescue",
            "nullable": true,
            "type": "string"
           },
           {
            "metadata": {},
            "name": "NAVAREA",
            "nullable": true,
            "type": "string"
           },
           {
            "metadata": {},
            "name": "Facilities_-_Wharves",
            "nullable": true,
            "type": "string"
           },
           {
            "metadata": {},
            "name": "Facilities_-_Anchorage",
            "nullable": true,
            "type": "string"
           },
           {
            "metadata": {},
            "name": "Facilities_-_Dangerous_Cargo_Anchorage",
            "nullable": true,
            "type": "string"
           },
           {
            "metadata": {},
            "name": "Facilities_-_Med_Mooring",
            "nullable": true,
            "type": "string"
           },
           {
            "metadata": {},
            "name": "Facilities_-_Beach_Mooring",
            "nullable": true,
            "type": "string"
           },
           {
            "metadata": {},
            "name": "Facilities_-_Ice_Mooring",
            "nullable": true,
            "type": "string"
           },
           {
            "metadata": {},
            "name": "Facilities_-_Ro-Ro",
            "nullable": true,
            "type": "string"
           },
           {
            "metadata": {},
            "name": "Facilities_-_Solid_Bulk",
            "nullable": true,
            "type": "string"
           },
           {
            "metadata": {},
            "name": "Facilities_-_Liquid_Bulk",
            "nullable": true,
            "type": "string"
           },
           {
            "metadata": {},
            "name": "Facilities_-_Container",
            "nullable": true,
            "type": "string"
           },
           {
            "metadata": {},
            "name": "Facilities_-_Breakbulk",
            "nullable": true,
            "type": "string"
           },
           {
            "metadata": {},
            "name": "Facilities_-_Oil_Terminal",
            "nullable": true,
            "type": "string"
           },
           {
            "metadata": {},
            "name": "Facilities_-_LNG_Terminal",
            "nullable": true,
            "type": "string"
           },
           {
            "metadata": {},
            "name": "Facilities_-_Other",
            "nullable": true,
            "type": "string"
           },
           {
            "metadata": {},
            "name": "Medical_Facilities",
            "nullable": true,
            "type": "string"
           },
           {
            "metadata": {},
            "name": "Garbage_Disposal",
            "nullable": true,
            "type": "string"
           },
           {
            "metadata": {},
            "name": "Chemical_Holding_Tank_Disposal",
            "nullable": true,
            "type": "string"
           },
           {
            "metadata": {},
            "name": "Degaussing",
            "nullable": true,
            "type": "string"
           },
           {
            "metadata": {},
            "name": "Dirty_Ballast_Disposal",
            "nullable": true,
            "type": "string"
           },
           {
            "metadata": {},
            "name": "Cranes_-_Fixed",
            "nullable": true,
            "type": "string"
           },
           {
            "metadata": {},
            "name": "Cranes_-_Mobile",
            "nullable": true,
            "type": "string"
           },
           {
            "metadata": {},
            "name": "Cranes_-_Floating",
            "nullable": true,
            "type": "string"
           },
           {
            "metadata": {},
            "name": "Cranes_-_Container",
            "nullable": true,
            "type": "string"
           },
           {
            "metadata": {},
            "name": "Lifts_-_100+_Tons",
            "nullable": true,
            "type": "string"
           },
           {
            "metadata": {},
            "name": "Lifts_-_50-100_Tons",
            "nullable": true,
            "type": "string"
           },
           {
            "metadata": {},
            "name": "Lifts_-_25-49_Tons",
            "nullable": true,
            "type": "string"
           },
           {
            "metadata": {},
            "name": "Lifts_-_0-24_Tons",
            "nullable": true,
            "type": "string"
           },
           {
            "metadata": {},
            "name": "Services_-_Longshoremen",
            "nullable": true,
            "type": "string"
           },
           {
            "metadata": {},
            "name": "Services_-_Electricity",
            "nullable": true,
            "type": "string"
           },
           {
            "metadata": {},
            "name": "Services_-_Steam",
            "nullable": true,
            "type": "string"
           },
           {
            "metadata": {},
            "name": "Services_-_Navigation_Equipment",
            "nullable": true,
            "type": "string"
           },
           {
            "metadata": {},
            "name": "Services_-_Electrical_Repair",
            "nullable": true,
            "type": "string"
           },
           {
            "metadata": {},
            "name": "Services_-_Ice_Breaking",
            "nullable": true,
            "type": "string"
           },
           {
            "metadata": {},
            "name": "Services_-_Diving",
            "nullable": true,
            "type": "string"
           },
           {
            "metadata": {},
            "name": "Supplies_-_Provisions",
            "nullable": true,
            "type": "string"
           },
           {
            "metadata": {},
            "name": "Supplies_-_Potable_Water",
            "nullable": true,
            "type": "string"
           },
           {
            "metadata": {},
            "name": "Supplies_-_Fuel_Oil",
            "nullable": true,
            "type": "string"
           },
           {
            "metadata": {},
            "name": "Supplies_-_Diesel_Oil",
            "nullable": true,
            "type": "string"
           },
           {
            "metadata": {},
            "name": "Supplies_-_Aviation_Fuel",
            "nullable": true,
            "type": "string"
           },
           {
            "metadata": {},
            "name": "Supplies_-_Deck",
            "nullable": true,
            "type": "string"
           },
           {
            "metadata": {},
            "name": "Supplies_-_Engine",
            "nullable": true,
            "type": "string"
           },
           {
            "metadata": {},
            "name": "Repairs",
            "nullable": true,
            "type": "string"
           },
           {
            "metadata": {},
            "name": "Dry_Dock",
            "nullable": true,
            "type": "string"
           },
           {
            "metadata": {},
            "name": "Railway",
            "nullable": true,
            "type": "string"
           },
           {
            "metadata": {},
            "name": "Latitude",
            "nullable": true,
            "type": "double"
           },
           {
            "metadata": {},
            "name": "Longitude",
            "nullable": true,
            "type": "double"
           }
          ],
          "type": "struct"
         },
         "tableIdentifier": null,
         "typeStr": "org.apache.spark.sql.DataFrame"
        },
        {
         "name": "dfWithIntegerColumn",
         "schema": {
          "fields": [
           {
            "metadata": {},
            "name": "World_Port_Index_Number",
            "nullable": true,
            "type": "integer"
           },
           {
            "metadata": {},
            "name": "Region_Name",
            "nullable": true,
            "type": "string"
           },
           {
            "metadata": {},
            "name": "Main_Port_Name",
            "nullable": true,
            "type": "string"
           },
           {
            "metadata": {},
            "name": "Alternate_Port_Name",
            "nullable": true,
            "type": "string"
           },
           {
            "metadata": {},
            "name": "UN/LOCODE",
            "nullable": true,
            "type": "string"
           },
           {
            "metadata": {},
            "name": "Country_Code",
            "nullable": true,
            "type": "string"
           },
           {
            "metadata": {},
            "name": "World_Water_Body",
            "nullable": true,
            "type": "string"
           },
           {
            "metadata": {},
            "name": "IHO_S-130_Sea_Area",
            "nullable": true,
            "type": "string"
           },
           {
            "metadata": {},
            "name": "Sailing_Direction_or_Publication",
            "nullable": true,
            "type": "string"
           },
           {
            "metadata": {},
            "name": "Publication_Link",
            "nullable": true,
            "type": "string"
           },
           {
            "metadata": {},
            "name": "Standard_Nautical_Chart",
            "nullable": true,
            "type": "string"
           },
           {
            "metadata": {},
            "name": "IHO_S-57_Electronic_Navigational_Chart",
            "nullable": true,
            "type": "string"
           },
           {
            "metadata": {},
            "name": "IHO_S-101_Electronic_Navigational_Chart",
            "nullable": true,
            "type": "string"
           },
           {
            "metadata": {},
            "name": "Digital_Nautical_Chart",
            "nullable": true,
            "type": "string"
           },
           {
            "metadata": {},
            "name": "Tidal_Range__m_",
            "nullable": true,
            "type": "double"
           },
           {
            "metadata": {},
            "name": "Entrance_Width__m_",
            "nullable": true,
            "type": "double"
           },
           {
            "metadata": {},
            "name": "Channel_Depth__m_",
            "nullable": true,
            "type": "double"
           },
           {
            "metadata": {},
            "name": "Anchorage_Depth__m_",
            "nullable": true,
            "type": "double"
           },
           {
            "metadata": {},
            "name": "Cargo_Pier_Depth__m_",
            "nullable": true,
            "type": "double"
           },
           {
            "metadata": {},
            "name": "Oil_Terminal_Depth__m_",
            "nullable": true,
            "type": "double"
           },
           {
            "metadata": {},
            "name": "Liquified_Natural_Gas_Terminal_Depth__m_",
            "nullable": true,
            "type": "double"
           },
           {
            "metadata": {},
            "name": "Maximum_Vessel_Length__m_",
            "nullable": true,
            "type": "double"
           },
           {
            "metadata": {},
            "name": "Maximum_Vessel_Beam__m_",
            "nullable": true,
            "type": "double"
           },
           {
            "metadata": {},
            "name": "Maximum_Vessel_Draft__m_",
            "nullable": true,
            "type": "double"
           },
           {
            "metadata": {},
            "name": "Offshore_Maximum_Vessel_Length__m_",
            "nullable": true,
            "type": "double"
           },
           {
            "metadata": {},
            "name": "Offshore_Maximum_Vessel_Beam__m_",
            "nullable": true,
            "type": "integer"
           },
           {
            "metadata": {},
            "name": "Offshore_Maximum_Vessel_Draft__m_",
            "nullable": true,
            "type": "double"
           },
           {
            "metadata": {},
            "name": "Harbor_Size",
            "nullable": true,
            "type": "string"
           },
           {
            "metadata": {},
            "name": "Harbor_Type",
            "nullable": true,
            "type": "string"
           },
           {
            "metadata": {},
            "name": "Harbor_Use",
            "nullable": true,
            "type": "string"
           },
           {
            "metadata": {},
            "name": "Shelter_Afforded",
            "nullable": true,
            "type": "string"
           },
           {
            "metadata": {},
            "name": "Entrance_Restriction_-_Tide",
            "nullable": true,
            "type": "string"
           },
           {
            "metadata": {},
            "name": "Entrance_Restriction_-_Heavy_Swell",
            "nullable": true,
            "type": "string"
           },
           {
            "metadata": {},
            "name": "Entrance_Restriction_-_Ice",
            "nullable": true,
            "type": "string"
           },
           {
            "metadata": {},
            "name": "Entrance_Restriction_-_Other",
            "nullable": true,
            "type": "string"
           },
           {
            "metadata": {},
            "name": "Overhead_Limits",
            "nullable": true,
            "type": "string"
           },
           {
            "metadata": {},
            "name": "Underkeel_Clearance_Management_System",
            "nullable": true,
            "type": "string"
           },
           {
            "metadata": {},
            "name": "Good_Holding_Ground",
            "nullable": true,
            "type": "string"
           },
           {
            "metadata": {},
            "name": "Turning_Area",
            "nullable": true,
            "type": "string"
           },
           {
            "metadata": {},
            "name": "Port_Security",
            "nullable": true,
            "type": "string"
           },
           {
            "metadata": {},
            "name": "Estimated_Time_of_Arrival_Message",
            "nullable": true,
            "type": "string"
           },
           {
            "metadata": {},
            "name": "Quarantine_-_Pratique",
            "nullable": true,
            "type": "string"
           },
           {
            "metadata": {},
            "name": "Quarantine_-_Sanitation",
            "nullable": true,
            "type": "string"
           },
           {
            "metadata": {},
            "name": "Quarantine_-_Other",
            "nullable": true,
            "type": "string"
           },
           {
            "metadata": {},
            "name": "Traffic_Separation_Scheme",
            "nullable": true,
            "type": "string"
           },
           {
            "metadata": {},
            "name": "Vessel_Traffic_Service",
            "nullable": true,
            "type": "string"
           },
           {
            "metadata": {},
            "name": "First_Port_of_Entry",
            "nullable": true,
            "type": "string"
           },
           {
            "metadata": {},
            "name": "US_Representative",
            "nullable": true,
            "type": "string"
           },
           {
            "metadata": {},
            "name": "Pilotage_-_Compulsory",
            "nullable": true,
            "type": "string"
           },
           {
            "metadata": {},
            "name": "Pilotage_-_Available",
            "nullable": true,
            "type": "string"
           },
           {
            "metadata": {},
            "name": "Pilotage_-_Local_Assistance",
            "nullable": true,
            "type": "string"
           },
           {
            "metadata": {},
            "name": "Pilotage_-_Advisable",
            "nullable": true,
            "type": "string"
           },
           {
            "metadata": {},
            "name": "Tugs_-_Salvage",
            "nullable": true,
            "type": "string"
           },
           {
            "metadata": {},
            "name": "Tugs_-_Assistance",
            "nullable": true,
            "type": "string"
           },
           {
            "metadata": {},
            "name": "Communications_-_Telephone",
            "nullable": true,
            "type": "string"
           },
           {
            "metadata": {},
            "name": "Communications_-_Telefax",
            "nullable": true,
            "type": "string"
           },
           {
            "metadata": {},
            "name": "Communications_-_Radio",
            "nullable": true,
            "type": "string"
           },
           {
            "metadata": {},
            "name": "Communications_-_Radiotelephone",
            "nullable": true,
            "type": "string"
           },
           {
            "metadata": {},
            "name": "Communications_-_Airport",
            "nullable": true,
            "type": "string"
           },
           {
            "metadata": {},
            "name": "Communications_-_Rail",
            "nullable": true,
            "type": "string"
           },
           {
            "metadata": {},
            "name": "Search_and_Rescue",
            "nullable": true,
            "type": "string"
           },
           {
            "metadata": {},
            "name": "NAVAREA",
            "nullable": true,
            "type": "string"
           },
           {
            "metadata": {},
            "name": "Facilities_-_Wharves",
            "nullable": true,
            "type": "string"
           },
           {
            "metadata": {},
            "name": "Facilities_-_Anchorage",
            "nullable": true,
            "type": "string"
           },
           {
            "metadata": {},
            "name": "Facilities_-_Dangerous_Cargo_Anchorage",
            "nullable": true,
            "type": "string"
           },
           {
            "metadata": {},
            "name": "Facilities_-_Med_Mooring",
            "nullable": true,
            "type": "string"
           },
           {
            "metadata": {},
            "name": "Facilities_-_Beach_Mooring",
            "nullable": true,
            "type": "string"
           },
           {
            "metadata": {},
            "name": "Facilities_-_Ice_Mooring",
            "nullable": true,
            "type": "string"
           },
           {
            "metadata": {},
            "name": "Facilities_-_Ro-Ro",
            "nullable": true,
            "type": "string"
           },
           {
            "metadata": {},
            "name": "Facilities_-_Solid_Bulk",
            "nullable": true,
            "type": "string"
           },
           {
            "metadata": {},
            "name": "Facilities_-_Liquid_Bulk",
            "nullable": true,
            "type": "string"
           },
           {
            "metadata": {},
            "name": "Facilities_-_Container",
            "nullable": true,
            "type": "string"
           },
           {
            "metadata": {},
            "name": "Facilities_-_Breakbulk",
            "nullable": true,
            "type": "string"
           },
           {
            "metadata": {},
            "name": "Facilities_-_Oil_Terminal",
            "nullable": true,
            "type": "string"
           },
           {
            "metadata": {},
            "name": "Facilities_-_LNG_Terminal",
            "nullable": true,
            "type": "string"
           },
           {
            "metadata": {},
            "name": "Facilities_-_Other",
            "nullable": true,
            "type": "string"
           },
           {
            "metadata": {},
            "name": "Medical_Facilities",
            "nullable": true,
            "type": "string"
           },
           {
            "metadata": {},
            "name": "Garbage_Disposal",
            "nullable": true,
            "type": "string"
           },
           {
            "metadata": {},
            "name": "Chemical_Holding_Tank_Disposal",
            "nullable": true,
            "type": "string"
           },
           {
            "metadata": {},
            "name": "Degaussing",
            "nullable": true,
            "type": "string"
           },
           {
            "metadata": {},
            "name": "Dirty_Ballast_Disposal",
            "nullable": true,
            "type": "string"
           },
           {
            "metadata": {},
            "name": "Cranes_-_Fixed",
            "nullable": true,
            "type": "string"
           },
           {
            "metadata": {},
            "name": "Cranes_-_Mobile",
            "nullable": true,
            "type": "string"
           },
           {
            "metadata": {},
            "name": "Cranes_-_Floating",
            "nullable": true,
            "type": "string"
           },
           {
            "metadata": {},
            "name": "Cranes_-_Container",
            "nullable": true,
            "type": "string"
           },
           {
            "metadata": {},
            "name": "Lifts_-_100+_Tons",
            "nullable": true,
            "type": "string"
           },
           {
            "metadata": {},
            "name": "Lifts_-_50-100_Tons",
            "nullable": true,
            "type": "string"
           },
           {
            "metadata": {},
            "name": "Lifts_-_25-49_Tons",
            "nullable": true,
            "type": "string"
           },
           {
            "metadata": {},
            "name": "Lifts_-_0-24_Tons",
            "nullable": true,
            "type": "string"
           },
           {
            "metadata": {},
            "name": "Services_-_Longshoremen",
            "nullable": true,
            "type": "string"
           },
           {
            "metadata": {},
            "name": "Services_-_Electricity",
            "nullable": true,
            "type": "string"
           },
           {
            "metadata": {},
            "name": "Services_-_Steam",
            "nullable": true,
            "type": "string"
           },
           {
            "metadata": {},
            "name": "Services_-_Navigation_Equipment",
            "nullable": true,
            "type": "string"
           },
           {
            "metadata": {},
            "name": "Services_-_Electrical_Repair",
            "nullable": true,
            "type": "string"
           },
           {
            "metadata": {},
            "name": "Services_-_Ice_Breaking",
            "nullable": true,
            "type": "string"
           },
           {
            "metadata": {},
            "name": "Services_-_Diving",
            "nullable": true,
            "type": "string"
           },
           {
            "metadata": {},
            "name": "Supplies_-_Provisions",
            "nullable": true,
            "type": "string"
           },
           {
            "metadata": {},
            "name": "Supplies_-_Potable_Water",
            "nullable": true,
            "type": "string"
           },
           {
            "metadata": {},
            "name": "Supplies_-_Fuel_Oil",
            "nullable": true,
            "type": "string"
           },
           {
            "metadata": {},
            "name": "Supplies_-_Diesel_Oil",
            "nullable": true,
            "type": "string"
           },
           {
            "metadata": {},
            "name": "Supplies_-_Aviation_Fuel",
            "nullable": true,
            "type": "string"
           },
           {
            "metadata": {},
            "name": "Supplies_-_Deck",
            "nullable": true,
            "type": "string"
           },
           {
            "metadata": {},
            "name": "Supplies_-_Engine",
            "nullable": true,
            "type": "string"
           },
           {
            "metadata": {},
            "name": "Repairs",
            "nullable": true,
            "type": "string"
           },
           {
            "metadata": {},
            "name": "Dry_Dock",
            "nullable": true,
            "type": "string"
           },
           {
            "metadata": {},
            "name": "Railway",
            "nullable": true,
            "type": "string"
           },
           {
            "metadata": {},
            "name": "Latitude",
            "nullable": true,
            "type": "double"
           },
           {
            "metadata": {},
            "name": "Longitude",
            "nullable": true,
            "type": "double"
           }
          ],
          "type": "struct"
         },
         "tableIdentifier": null,
         "typeStr": "org.apache.spark.sql.DataFrame"
        },
        {
         "name": "dfWithFileName",
         "schema": {
          "fields": [
           {
            "metadata": {},
            "name": "World_Port_Index_Number",
            "nullable": true,
            "type": "integer"
           },
           {
            "metadata": {},
            "name": "Region_Name",
            "nullable": true,
            "type": "string"
           },
           {
            "metadata": {},
            "name": "Main_Port_Name",
            "nullable": true,
            "type": "string"
           },
           {
            "metadata": {},
            "name": "Alternate_Port_Name",
            "nullable": true,
            "type": "string"
           },
           {
            "metadata": {},
            "name": "UN/LOCODE",
            "nullable": true,
            "type": "string"
           },
           {
            "metadata": {},
            "name": "Country_Code",
            "nullable": true,
            "type": "string"
           },
           {
            "metadata": {},
            "name": "World_Water_Body",
            "nullable": true,
            "type": "string"
           },
           {
            "metadata": {},
            "name": "IHO_S-130_Sea_Area",
            "nullable": true,
            "type": "string"
           },
           {
            "metadata": {},
            "name": "Sailing_Direction_or_Publication",
            "nullable": true,
            "type": "string"
           },
           {
            "metadata": {},
            "name": "Publication_Link",
            "nullable": true,
            "type": "string"
           },
           {
            "metadata": {},
            "name": "Standard_Nautical_Chart",
            "nullable": true,
            "type": "string"
           },
           {
            "metadata": {},
            "name": "IHO_S-57_Electronic_Navigational_Chart",
            "nullable": true,
            "type": "string"
           },
           {
            "metadata": {},
            "name": "IHO_S-101_Electronic_Navigational_Chart",
            "nullable": true,
            "type": "string"
           },
           {
            "metadata": {},
            "name": "Digital_Nautical_Chart",
            "nullable": true,
            "type": "string"
           },
           {
            "metadata": {},
            "name": "Tidal_Range__m_",
            "nullable": true,
            "type": "double"
           },
           {
            "metadata": {},
            "name": "Entrance_Width__m_",
            "nullable": true,
            "type": "double"
           },
           {
            "metadata": {},
            "name": "Channel_Depth__m_",
            "nullable": true,
            "type": "double"
           },
           {
            "metadata": {},
            "name": "Anchorage_Depth__m_",
            "nullable": true,
            "type": "double"
           },
           {
            "metadata": {},
            "name": "Cargo_Pier_Depth__m_",
            "nullable": true,
            "type": "double"
           },
           {
            "metadata": {},
            "name": "Oil_Terminal_Depth__m_",
            "nullable": true,
            "type": "double"
           },
           {
            "metadata": {},
            "name": "Liquified_Natural_Gas_Terminal_Depth__m_",
            "nullable": true,
            "type": "double"
           },
           {
            "metadata": {},
            "name": "Maximum_Vessel_Length__m_",
            "nullable": true,
            "type": "double"
           },
           {
            "metadata": {},
            "name": "Maximum_Vessel_Beam__m_",
            "nullable": true,
            "type": "double"
           },
           {
            "metadata": {},
            "name": "Maximum_Vessel_Draft__m_",
            "nullable": true,
            "type": "double"
           },
           {
            "metadata": {},
            "name": "Offshore_Maximum_Vessel_Length__m_",
            "nullable": true,
            "type": "double"
           },
           {
            "metadata": {},
            "name": "Offshore_Maximum_Vessel_Beam__m_",
            "nullable": true,
            "type": "integer"
           },
           {
            "metadata": {},
            "name": "Offshore_Maximum_Vessel_Draft__m_",
            "nullable": true,
            "type": "double"
           },
           {
            "metadata": {},
            "name": "Harbor_Size",
            "nullable": true,
            "type": "string"
           },
           {
            "metadata": {},
            "name": "Harbor_Type",
            "nullable": true,
            "type": "string"
           },
           {
            "metadata": {},
            "name": "Harbor_Use",
            "nullable": true,
            "type": "string"
           },
           {
            "metadata": {},
            "name": "Shelter_Afforded",
            "nullable": true,
            "type": "string"
           },
           {
            "metadata": {},
            "name": "Entrance_Restriction_-_Tide",
            "nullable": true,
            "type": "string"
           },
           {
            "metadata": {},
            "name": "Entrance_Restriction_-_Heavy_Swell",
            "nullable": true,
            "type": "string"
           },
           {
            "metadata": {},
            "name": "Entrance_Restriction_-_Ice",
            "nullable": true,
            "type": "string"
           },
           {
            "metadata": {},
            "name": "Entrance_Restriction_-_Other",
            "nullable": true,
            "type": "string"
           },
           {
            "metadata": {},
            "name": "Overhead_Limits",
            "nullable": true,
            "type": "string"
           },
           {
            "metadata": {},
            "name": "Underkeel_Clearance_Management_System",
            "nullable": true,
            "type": "string"
           },
           {
            "metadata": {},
            "name": "Good_Holding_Ground",
            "nullable": true,
            "type": "string"
           },
           {
            "metadata": {},
            "name": "Turning_Area",
            "nullable": true,
            "type": "string"
           },
           {
            "metadata": {},
            "name": "Port_Security",
            "nullable": true,
            "type": "string"
           },
           {
            "metadata": {},
            "name": "Estimated_Time_of_Arrival_Message",
            "nullable": true,
            "type": "string"
           },
           {
            "metadata": {},
            "name": "Quarantine_-_Pratique",
            "nullable": true,
            "type": "string"
           },
           {
            "metadata": {},
            "name": "Quarantine_-_Sanitation",
            "nullable": true,
            "type": "string"
           },
           {
            "metadata": {},
            "name": "Quarantine_-_Other",
            "nullable": true,
            "type": "string"
           },
           {
            "metadata": {},
            "name": "Traffic_Separation_Scheme",
            "nullable": true,
            "type": "string"
           },
           {
            "metadata": {},
            "name": "Vessel_Traffic_Service",
            "nullable": true,
            "type": "string"
           },
           {
            "metadata": {},
            "name": "First_Port_of_Entry",
            "nullable": true,
            "type": "string"
           },
           {
            "metadata": {},
            "name": "US_Representative",
            "nullable": true,
            "type": "string"
           },
           {
            "metadata": {},
            "name": "Pilotage_-_Compulsory",
            "nullable": true,
            "type": "string"
           },
           {
            "metadata": {},
            "name": "Pilotage_-_Available",
            "nullable": true,
            "type": "string"
           },
           {
            "metadata": {},
            "name": "Pilotage_-_Local_Assistance",
            "nullable": true,
            "type": "string"
           },
           {
            "metadata": {},
            "name": "Pilotage_-_Advisable",
            "nullable": true,
            "type": "string"
           },
           {
            "metadata": {},
            "name": "Tugs_-_Salvage",
            "nullable": true,
            "type": "string"
           },
           {
            "metadata": {},
            "name": "Tugs_-_Assistance",
            "nullable": true,
            "type": "string"
           },
           {
            "metadata": {},
            "name": "Communications_-_Telephone",
            "nullable": true,
            "type": "string"
           },
           {
            "metadata": {},
            "name": "Communications_-_Telefax",
            "nullable": true,
            "type": "string"
           },
           {
            "metadata": {},
            "name": "Communications_-_Radio",
            "nullable": true,
            "type": "string"
           },
           {
            "metadata": {},
            "name": "Communications_-_Radiotelephone",
            "nullable": true,
            "type": "string"
           },
           {
            "metadata": {},
            "name": "Communications_-_Airport",
            "nullable": true,
            "type": "string"
           },
           {
            "metadata": {},
            "name": "Communications_-_Rail",
            "nullable": true,
            "type": "string"
           },
           {
            "metadata": {},
            "name": "Search_and_Rescue",
            "nullable": true,
            "type": "string"
           },
           {
            "metadata": {},
            "name": "NAVAREA",
            "nullable": true,
            "type": "string"
           },
           {
            "metadata": {},
            "name": "Facilities_-_Wharves",
            "nullable": true,
            "type": "string"
           },
           {
            "metadata": {},
            "name": "Facilities_-_Anchorage",
            "nullable": true,
            "type": "string"
           },
           {
            "metadata": {},
            "name": "Facilities_-_Dangerous_Cargo_Anchorage",
            "nullable": true,
            "type": "string"
           },
           {
            "metadata": {},
            "name": "Facilities_-_Med_Mooring",
            "nullable": true,
            "type": "string"
           },
           {
            "metadata": {},
            "name": "Facilities_-_Beach_Mooring",
            "nullable": true,
            "type": "string"
           },
           {
            "metadata": {},
            "name": "Facilities_-_Ice_Mooring",
            "nullable": true,
            "type": "string"
           },
           {
            "metadata": {},
            "name": "Facilities_-_Ro-Ro",
            "nullable": true,
            "type": "string"
           },
           {
            "metadata": {},
            "name": "Facilities_-_Solid_Bulk",
            "nullable": true,
            "type": "string"
           },
           {
            "metadata": {},
            "name": "Facilities_-_Liquid_Bulk",
            "nullable": true,
            "type": "string"
           },
           {
            "metadata": {},
            "name": "Facilities_-_Container",
            "nullable": true,
            "type": "string"
           },
           {
            "metadata": {},
            "name": "Facilities_-_Breakbulk",
            "nullable": true,
            "type": "string"
           },
           {
            "metadata": {},
            "name": "Facilities_-_Oil_Terminal",
            "nullable": true,
            "type": "string"
           },
           {
            "metadata": {},
            "name": "Facilities_-_LNG_Terminal",
            "nullable": true,
            "type": "string"
           },
           {
            "metadata": {},
            "name": "Facilities_-_Other",
            "nullable": true,
            "type": "string"
           },
           {
            "metadata": {},
            "name": "Medical_Facilities",
            "nullable": true,
            "type": "string"
           },
           {
            "metadata": {},
            "name": "Garbage_Disposal",
            "nullable": true,
            "type": "string"
           },
           {
            "metadata": {},
            "name": "Chemical_Holding_Tank_Disposal",
            "nullable": true,
            "type": "string"
           },
           {
            "metadata": {},
            "name": "Degaussing",
            "nullable": true,
            "type": "string"
           },
           {
            "metadata": {},
            "name": "Dirty_Ballast_Disposal",
            "nullable": true,
            "type": "string"
           },
           {
            "metadata": {},
            "name": "Cranes_-_Fixed",
            "nullable": true,
            "type": "string"
           },
           {
            "metadata": {},
            "name": "Cranes_-_Mobile",
            "nullable": true,
            "type": "string"
           },
           {
            "metadata": {},
            "name": "Cranes_-_Floating",
            "nullable": true,
            "type": "string"
           },
           {
            "metadata": {},
            "name": "Cranes_-_Container",
            "nullable": true,
            "type": "string"
           },
           {
            "metadata": {},
            "name": "Lifts_-_100+_Tons",
            "nullable": true,
            "type": "string"
           },
           {
            "metadata": {},
            "name": "Lifts_-_50-100_Tons",
            "nullable": true,
            "type": "string"
           },
           {
            "metadata": {},
            "name": "Lifts_-_25-49_Tons",
            "nullable": true,
            "type": "string"
           },
           {
            "metadata": {},
            "name": "Lifts_-_0-24_Tons",
            "nullable": true,
            "type": "string"
           },
           {
            "metadata": {},
            "name": "Services_-_Longshoremen",
            "nullable": true,
            "type": "string"
           },
           {
            "metadata": {},
            "name": "Services_-_Electricity",
            "nullable": true,
            "type": "string"
           },
           {
            "metadata": {},
            "name": "Services_-_Steam",
            "nullable": true,
            "type": "string"
           },
           {
            "metadata": {},
            "name": "Services_-_Navigation_Equipment",
            "nullable": true,
            "type": "string"
           },
           {
            "metadata": {},
            "name": "Services_-_Electrical_Repair",
            "nullable": true,
            "type": "string"
           },
           {
            "metadata": {},
            "name": "Services_-_Ice_Breaking",
            "nullable": true,
            "type": "string"
           },
           {
            "metadata": {},
            "name": "Services_-_Diving",
            "nullable": true,
            "type": "string"
           },
           {
            "metadata": {},
            "name": "Supplies_-_Provisions",
            "nullable": true,
            "type": "string"
           },
           {
            "metadata": {},
            "name": "Supplies_-_Potable_Water",
            "nullable": true,
            "type": "string"
           },
           {
            "metadata": {},
            "name": "Supplies_-_Fuel_Oil",
            "nullable": true,
            "type": "string"
           },
           {
            "metadata": {},
            "name": "Supplies_-_Diesel_Oil",
            "nullable": true,
            "type": "string"
           },
           {
            "metadata": {},
            "name": "Supplies_-_Aviation_Fuel",
            "nullable": true,
            "type": "string"
           },
           {
            "metadata": {},
            "name": "Supplies_-_Deck",
            "nullable": true,
            "type": "string"
           },
           {
            "metadata": {},
            "name": "Supplies_-_Engine",
            "nullable": true,
            "type": "string"
           },
           {
            "metadata": {},
            "name": "Repairs",
            "nullable": true,
            "type": "string"
           },
           {
            "metadata": {},
            "name": "Dry_Dock",
            "nullable": true,
            "type": "string"
           },
           {
            "metadata": {},
            "name": "Railway",
            "nullable": true,
            "type": "string"
           },
           {
            "metadata": {},
            "name": "Latitude",
            "nullable": true,
            "type": "double"
           },
           {
            "metadata": {},
            "name": "Longitude",
            "nullable": true,
            "type": "double"
           },
           {
            "metadata": {},
            "name": "filename",
            "nullable": false,
            "type": "string"
           }
          ],
          "type": "struct"
         },
         "tableIdentifier": null,
         "typeStr": "org.apache.spark.sql.DataFrame"
        }
       ],
       "metadata": {},
       "removedWidgets": [],
       "type": "html"
      }
     },
     "output_type": "display_data"
    }
   ],
   "source": [
    "%scala\n",
    "import org.apache.spark.sql.functions._\n",
    "import org.apache.spark.sql.types.IntegerType\n",
    "\n",
    "// Define the path to the CSV files\n",
    "val path = \"dbfs:/FileStore/tables/UpdatedPub150.csv\"\n",
    "\n",
    "// Read the CSV files into a DataFrame\n",
    "val df = spark.read.format(\"csv\")\n",
    "  .option(\"header\", \"true\")\n",
    "  .option(\"inferSchema\", \"true\")\n",
    "  .load(path)\n",
    "\n",
    "// Replace invalid characters in column names with underscores\n",
    "val newCols = df.columns.map(_.replaceAll(\"[ ,;{}()\\n\\t=]\", \"_\"))\n",
    "val dfRenamed = df.toDF(newCols: _*)\n",
    "\n",
    "// Convert the World_Port_Index_Number column to integer and fail if it's not possible\n",
    "val dfWithIntegerColumn = dfRenamed.withColumn(\"World_Port_Index_Number\", $\"World_Port_Index_Number\".cast(IntegerType).as(\"World_Port_Index_Number\"))\n",
    "  .na.drop(\"all\", Seq(\"World_Port_Index_Number\"))\n",
    "\n",
    "// Add a new column for the file name\n",
    "val dfWithFileName = dfWithIntegerColumn.withColumn(\"filename\", input_file_name())\n",
    "\n",
    "// Drop the existing table if it exists\n",
    "spark.sql(\"DROP TABLE IF EXISTS ais.UpdatedPub150\")\n",
    "\n",
    "// Write the DataFrame to the Delta table\n",
    "dfWithFileName.write.format(\"delta\")\n",
    "  .mode(\"overwrite\") // Overwrite the existing table\n",
    "  .saveAsTable(\"ais.UpdatedPub150\")"
   ]
  },
  {
   "cell_type": "code",
   "execution_count": 0,
   "metadata": {
    "application/vnd.databricks.v1+cell": {
     "cellMetadata": {
      "byteLimit": 2048000,
      "rowLimit": 10000
     },
     "inputWidgets": {},
     "nuid": "2e3ba477-e4e3-4ffc-881d-421c7f281d16",
     "showTitle": false,
     "title": ""
    }
   },
   "outputs": [],
   "source": [
    "df_UpdatedPub150 = spark.read.table(\"ais.UpdatedPub150\")"
   ]
  },
  {
   "cell_type": "code",
   "execution_count": 0,
   "metadata": {
    "application/vnd.databricks.v1+cell": {
     "cellMetadata": {
      "byteLimit": 2048000,
      "rowLimit": 10000
     },
     "inputWidgets": {},
     "nuid": "a6e2d3c2-6375-4318-981a-2f6f949f9120",
     "showTitle": false,
     "title": ""
    }
   },
   "outputs": [
    {
     "output_type": "stream",
     "name": "stdout",
     "output_type": "stream",
     "text": [
      "root\n |-- World_Port_Index_Number: integer (nullable = true)\n |-- Region_Name: string (nullable = true)\n |-- Main_Port_Name: string (nullable = true)\n |-- Alternate_Port_Name: string (nullable = true)\n |-- UN/LOCODE: string (nullable = true)\n |-- Country_Code: string (nullable = true)\n |-- World_Water_Body: string (nullable = true)\n |-- IHO_S-130_Sea_Area: string (nullable = true)\n |-- Sailing_Direction_or_Publication: string (nullable = true)\n |-- Publication_Link: string (nullable = true)\n |-- Standard_Nautical_Chart: string (nullable = true)\n |-- IHO_S-57_Electronic_Navigational_Chart: string (nullable = true)\n |-- IHO_S-101_Electronic_Navigational_Chart: string (nullable = true)\n |-- Digital_Nautical_Chart: string (nullable = true)\n |-- Tidal_Range__m_: double (nullable = true)\n |-- Entrance_Width__m_: double (nullable = true)\n |-- Channel_Depth__m_: double (nullable = true)\n |-- Anchorage_Depth__m_: double (nullable = true)\n |-- Cargo_Pier_Depth__m_: double (nullable = true)\n |-- Oil_Terminal_Depth__m_: double (nullable = true)\n |-- Liquified_Natural_Gas_Terminal_Depth__m_: double (nullable = true)\n |-- Maximum_Vessel_Length__m_: double (nullable = true)\n |-- Maximum_Vessel_Beam__m_: double (nullable = true)\n |-- Maximum_Vessel_Draft__m_: double (nullable = true)\n |-- Offshore_Maximum_Vessel_Length__m_: double (nullable = true)\n |-- Offshore_Maximum_Vessel_Beam__m_: integer (nullable = true)\n |-- Offshore_Maximum_Vessel_Draft__m_: double (nullable = true)\n |-- Harbor_Size: string (nullable = true)\n |-- Harbor_Type: string (nullable = true)\n |-- Harbor_Use: string (nullable = true)\n |-- Shelter_Afforded: string (nullable = true)\n |-- Entrance_Restriction_-_Tide: string (nullable = true)\n |-- Entrance_Restriction_-_Heavy_Swell: string (nullable = true)\n |-- Entrance_Restriction_-_Ice: string (nullable = true)\n |-- Entrance_Restriction_-_Other: string (nullable = true)\n |-- Overhead_Limits: string (nullable = true)\n |-- Underkeel_Clearance_Management_System: string (nullable = true)\n |-- Good_Holding_Ground: string (nullable = true)\n |-- Turning_Area: string (nullable = true)\n |-- Port_Security: string (nullable = true)\n |-- Estimated_Time_of_Arrival_Message: string (nullable = true)\n |-- Quarantine_-_Pratique: string (nullable = true)\n |-- Quarantine_-_Sanitation: string (nullable = true)\n |-- Quarantine_-_Other: string (nullable = true)\n |-- Traffic_Separation_Scheme: string (nullable = true)\n |-- Vessel_Traffic_Service: string (nullable = true)\n |-- First_Port_of_Entry: string (nullable = true)\n |-- US_Representative: string (nullable = true)\n |-- Pilotage_-_Compulsory: string (nullable = true)\n |-- Pilotage_-_Available: string (nullable = true)\n |-- Pilotage_-_Local_Assistance: string (nullable = true)\n |-- Pilotage_-_Advisable: string (nullable = true)\n |-- Tugs_-_Salvage: string (nullable = true)\n |-- Tugs_-_Assistance: string (nullable = true)\n |-- Communications_-_Telephone: string (nullable = true)\n |-- Communications_-_Telefax: string (nullable = true)\n |-- Communications_-_Radio: string (nullable = true)\n |-- Communications_-_Radiotelephone: string (nullable = true)\n |-- Communications_-_Airport: string (nullable = true)\n |-- Communications_-_Rail: string (nullable = true)\n |-- Search_and_Rescue: string (nullable = true)\n |-- NAVAREA: string (nullable = true)\n |-- Facilities_-_Wharves: string (nullable = true)\n |-- Facilities_-_Anchorage: string (nullable = true)\n |-- Facilities_-_Dangerous_Cargo_Anchorage: string (nullable = true)\n |-- Facilities_-_Med_Mooring: string (nullable = true)\n |-- Facilities_-_Beach_Mooring: string (nullable = true)\n |-- Facilities_-_Ice_Mooring: string (nullable = true)\n |-- Facilities_-_Ro-Ro: string (nullable = true)\n |-- Facilities_-_Solid_Bulk: string (nullable = true)\n |-- Facilities_-_Liquid_Bulk: string (nullable = true)\n |-- Facilities_-_Container: string (nullable = true)\n |-- Facilities_-_Breakbulk: string (nullable = true)\n |-- Facilities_-_Oil_Terminal: string (nullable = true)\n |-- Facilities_-_LNG_Terminal: string (nullable = true)\n |-- Facilities_-_Other: string (nullable = true)\n |-- Medical_Facilities: string (nullable = true)\n |-- Garbage_Disposal: string (nullable = true)\n |-- Chemical_Holding_Tank_Disposal: string (nullable = true)\n |-- Degaussing: string (nullable = true)\n |-- Dirty_Ballast_Disposal: string (nullable = true)\n |-- Cranes_-_Fixed: string (nullable = true)\n |-- Cranes_-_Mobile: string (nullable = true)\n |-- Cranes_-_Floating: string (nullable = true)\n |-- Cranes_-_Container: string (nullable = true)\n |-- Lifts_-_100+_Tons: string (nullable = true)\n |-- Lifts_-_50-100_Tons: string (nullable = true)\n |-- Lifts_-_25-49_Tons: string (nullable = true)\n |-- Lifts_-_0-24_Tons: string (nullable = true)\n |-- Services_-_Longshoremen: string (nullable = true)\n |-- Services_-_Electricity: string (nullable = true)\n |-- Services_-_Steam: string (nullable = true)\n |-- Services_-_Navigation_Equipment: string (nullable = true)\n |-- Services_-_Electrical_Repair: string (nullable = true)\n |-- Services_-_Ice_Breaking: string (nullable = true)\n |-- Services_-_Diving: string (nullable = true)\n |-- Supplies_-_Provisions: string (nullable = true)\n |-- Supplies_-_Potable_Water: string (nullable = true)\n |-- Supplies_-_Fuel_Oil: string (nullable = true)\n |-- Supplies_-_Diesel_Oil: string (nullable = true)\n |-- Supplies_-_Aviation_Fuel: string (nullable = true)\n |-- Supplies_-_Deck: string (nullable = true)\n |-- Supplies_-_Engine: string (nullable = true)\n |-- Repairs: string (nullable = true)\n |-- Dry_Dock: string (nullable = true)\n |-- Railway: string (nullable = true)\n |-- Latitude: double (nullable = true)\n |-- Longitude: double (nullable = true)\n |-- filename: string (nullable = true)\n\n"
     ]
    }
   ],
   "source": [
    "df_UpdatedPub150.printSchema()"
   ]
  },
  {
   "cell_type": "code",
   "execution_count": 0,
   "metadata": {
    "application/vnd.databricks.v1+cell": {
     "cellMetadata": {
      "byteLimit": 2048000,
      "rowLimit": 10000
     },
     "inputWidgets": {},
     "nuid": "cdc8ba7f-27f5-45d0-8d52-127ae4e5f044",
     "showTitle": false,
     "title": ""
    }
   },
   "outputs": [
    {
     "output_type": "stream",
     "name": "stdout",
     "output_type": "stream",
     "text": [
      "Out[74]: 3739"
     ]
    }
   ],
   "source": [
    "df_UpdatedPub150.count()"
   ]
  },
  {
   "cell_type": "code",
   "execution_count": 0,
   "metadata": {
    "application/vnd.databricks.v1+cell": {
     "cellMetadata": {
      "byteLimit": 2048000,
      "rowLimit": 10000
     },
     "inputWidgets": {},
     "nuid": "6701f172-bce0-4dba-9079-f8949cc9bba0",
     "showTitle": false,
     "title": ""
    }
   },
   "outputs": [
    {
     "output_type": "display_data",
     "data": {
      "image/png": "[encoded data removed]"
     },
     "metadata": {
      "application/vnd.databricks.v1+output": {
       "addedWidgets": {},
       "arguments": {},
       "data": "data:image/png;base64,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\n",
       "datasetInfos": [],
       "metadata": {},
       "removedWidgets": [],
       "type": "image"
      }
     },
     "output_type": "display_data"
    }
   ],
   "source": [
    "import numpy as np\n",
    "import matplotlib.pyplot as plt\n",
    "\n",
    "#spark dataframe to use\n",
    "df_spark_to_use = df_UpdatedPub150\n",
    "\n",
    "# Convert the Spark DataFrame to a pandas DataFrame\n",
    "df_pandas = df_spark_to_use.toPandas()\n",
    " \n",
    "# Set the figure size\n",
    "fig, ax = plt.subplots(figsize=(14, 8))\n",
    " \n",
    "# Create a scatter plot using matplotlib\n",
    "ax.scatter(df_pandas[\"Longitude\"], df_pandas[\"Latitude\"], s=4)\n",
    " \n",
    "# Set the plot title and axis labels\n",
    "ax.set_title(\"National Geospatial-Intelligence Agency (NGA) Maritime Safety Information. World Port Index (Pub 150)\")\n",
    "ax.set_xlabel(\"Longitude\")\n",
    "ax.set_ylabel(\"Latitude\")\n",
    " \n",
    "# Show the plot\n",
    "plt.show()"
   ]
  },
  {
   "cell_type": "code",
   "execution_count": 0,
   "metadata": {
    "application/vnd.databricks.v1+cell": {
     "cellMetadata": {
      "byteLimit": 2048000,
      "rowLimit": 10000
     },
     "inputWidgets": {},
     "nuid": "bf9ba705-d53f-4939-9b6c-218f42c7b935",
     "showTitle": false,
     "title": ""
    }
   },
   "outputs": [
    {
     "output_type": "display_data",
     "data": {
      "image/png": "[encoded data removed]"
     },
     "metadata": {
      "application/vnd.databricks.v1+output": {
       "addedWidgets": {},
       "arguments": {},
       "data": "data:image/png;base64,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\n",
       "datasetInfos": [],
       "metadata": {},
       "removedWidgets": [],
       "type": "image"
      }
     },
     "output_type": "display_data"
    }
   ],
   "source": [
    "import numpy as np\n",
    "import matplotlib.pyplot as plt\n",
    "\n",
    "#spark dataframe to use\n",
    "df_spark_to_use = df_UpdatedPub150\n",
    "\n",
    "# Specify the bounding box\n",
    "min_lat, max_lat, min_lon, max_lon = 20, 60, -140, -60\n",
    " \n",
    "# Filter the data to only include points within the bounding box\n",
    "df_filtered = df_spark_to_use.filter((df_spark_to_use[\"Latitude\"] >= min_lat) & (df_spark_to_use[\"Latitude\"] <= max_lat) & \\\n",
    "                        (df_spark_to_use[\"Longitude\"] >= min_lon) & (df_spark_to_use[\"Longitude\"] <= max_lon))\n",
    " \n",
    "# Convert the Spark DataFrame to a pandas DataFrame\n",
    "df_pandas = df_filtered.toPandas()\n",
    " \n",
    "# Set the figure size\n",
    "fig, ax = plt.subplots(figsize=(14, 8))\n",
    " \n",
    "# Create a scatter plot using matplotlib\n",
    "ax.scatter(df_pandas[\"Longitude\"], df_pandas[\"Latitude\"], s=4)\n",
    " \n",
    "# Set the plot title and axis labels\n",
    "ax.set_title(\"National Geospatial-Intelligence Agency (NGA) Maritime Safety Information. World Port Index (Pub 150).\\nmin_lat, max_lat, min_lon, max_lon = 20, 60, -140, -60\")\n",
    "ax.set_xlabel(\"Longitude\")\n",
    "ax.set_ylabel(\"Latitude\")\n",
    " \n",
    "# Show the plot\n",
    "plt.show()"
   ]
  },
  {
   "cell_type": "code",
   "execution_count": 0,
   "metadata": {
    "application/vnd.databricks.v1+cell": {
     "cellMetadata": {
      "byteLimit": 2048000,
      "rowLimit": 10000
     },
     "inputWidgets": {},
     "nuid": "75ebdf34-d8a0-474d-9e0c-9a68e4f46cd3",
     "showTitle": false,
     "title": ""
    }
   },
   "outputs": [],
   "source": [
    "df_US = df_UpdatedPub150[df_UpdatedPub150['Country_Code'] == 'United States']"
   ]
  },
  {
   "cell_type": "code",
   "execution_count": 0,
   "metadata": {
    "application/vnd.databricks.v1+cell": {
     "cellMetadata": {
      "byteLimit": 2048000,
      "rowLimit": 10000
     },
     "inputWidgets": {},
     "nuid": "c0cda684-86d6-4a26-b933-8fd5f23300d8",
     "showTitle": false,
     "title": ""
    }
   },
   "outputs": [
    {
     "output_type": "display_data",
     "data": {
      "text/plain": [
       "\u001B[0;31m---------------------------------------------------------------------------\u001B[0m\n",
       "\u001B[0;31mAnalysisException\u001B[0m                         Traceback (most recent call last)\n",
       "\u001B[0;32m<command-97616581672699>\u001B[0m in \u001B[0;36m<cell line: 5>\u001B[0;34m()\u001B[0m\n",
       "\u001B[1;32m      3\u001B[0m \u001B[0;34m\u001B[0m\u001B[0m\n",
       "\u001B[1;32m      4\u001B[0m \u001B[0;31m# Register the table in the Spark catalog\u001B[0m\u001B[0;34m\u001B[0m\u001B[0;34m\u001B[0m\u001B[0;34m\u001B[0m\u001B[0m\n",
       "\u001B[0;32m----> 5\u001B[0;31m \u001B[0mspark\u001B[0m\u001B[0;34m.\u001B[0m\u001B[0msql\u001B[0m\u001B[0;34m(\u001B[0m\u001B[0;34m\"CREATE TABLE ais.UpdatedPub150_US USING delta LOCATION 'dbfs:/mnt/delta-lake/ais/UpdatedPub150_US'\"\u001B[0m\u001B[0;34m)\u001B[0m\u001B[0;34m\u001B[0m\u001B[0;34m\u001B[0m\u001B[0m\n",
       "\u001B[0m\n",
       "\u001B[0;32m/databricks/spark/python/pyspark/instrumentation_utils.py\u001B[0m in \u001B[0;36mwrapper\u001B[0;34m(*args, **kwargs)\u001B[0m\n",
       "\u001B[1;32m     46\u001B[0m             \u001B[0mstart\u001B[0m \u001B[0;34m=\u001B[0m \u001B[0mtime\u001B[0m\u001B[0;34m.\u001B[0m\u001B[0mperf_counter\u001B[0m\u001B[0;34m(\u001B[0m\u001B[0;34m)\u001B[0m\u001B[0;34m\u001B[0m\u001B[0;34m\u001B[0m\u001B[0m\n",
       "\u001B[1;32m     47\u001B[0m             \u001B[0;32mtry\u001B[0m\u001B[0;34m:\u001B[0m\u001B[0;34m\u001B[0m\u001B[0;34m\u001B[0m\u001B[0m\n",
       "\u001B[0;32m---> 48\u001B[0;31m                 \u001B[0mres\u001B[0m \u001B[0;34m=\u001B[0m \u001B[0mfunc\u001B[0m\u001B[0;34m(\u001B[0m\u001B[0;34m*\u001B[0m\u001B[0margs\u001B[0m\u001B[0;34m,\u001B[0m \u001B[0;34m**\u001B[0m\u001B[0mkwargs\u001B[0m\u001B[0;34m)\u001B[0m\u001B[0;34m\u001B[0m\u001B[0;34m\u001B[0m\u001B[0m\n",
       "\u001B[0m\u001B[1;32m     49\u001B[0m                 logger.log_success(\n",
       "\u001B[1;32m     50\u001B[0m                     \u001B[0mmodule_name\u001B[0m\u001B[0;34m,\u001B[0m \u001B[0mclass_name\u001B[0m\u001B[0;34m,\u001B[0m \u001B[0mfunction_name\u001B[0m\u001B[0;34m,\u001B[0m \u001B[0mtime\u001B[0m\u001B[0;34m.\u001B[0m\u001B[0mperf_counter\u001B[0m\u001B[0;34m(\u001B[0m\u001B[0;34m)\u001B[0m \u001B[0;34m-\u001B[0m \u001B[0mstart\u001B[0m\u001B[0;34m,\u001B[0m \u001B[0msignature\u001B[0m\u001B[0;34m\u001B[0m\u001B[0;34m\u001B[0m\u001B[0m\n",
       "\n",
       "\u001B[0;32m/databricks/spark/python/pyspark/sql/session.py\u001B[0m in \u001B[0;36msql\u001B[0;34m(self, sqlQuery, **kwargs)\u001B[0m\n",
       "\u001B[1;32m   1117\u001B[0m             \u001B[0msqlQuery\u001B[0m \u001B[0;34m=\u001B[0m \u001B[0mformatter\u001B[0m\u001B[0;34m.\u001B[0m\u001B[0mformat\u001B[0m\u001B[0;34m(\u001B[0m\u001B[0msqlQuery\u001B[0m\u001B[0;34m,\u001B[0m \u001B[0;34m**\u001B[0m\u001B[0mkwargs\u001B[0m\u001B[0;34m)\u001B[0m\u001B[0;34m\u001B[0m\u001B[0;34m\u001B[0m\u001B[0m\n",
       "\u001B[1;32m   1118\u001B[0m         \u001B[0;32mtry\u001B[0m\u001B[0;34m:\u001B[0m\u001B[0;34m\u001B[0m\u001B[0;34m\u001B[0m\u001B[0m\n",
       "\u001B[0;32m-> 1119\u001B[0;31m             \u001B[0;32mreturn\u001B[0m \u001B[0mDataFrame\u001B[0m\u001B[0;34m(\u001B[0m\u001B[0mself\u001B[0m\u001B[0;34m.\u001B[0m\u001B[0m_jsparkSession\u001B[0m\u001B[0;34m.\u001B[0m\u001B[0msql\u001B[0m\u001B[0;34m(\u001B[0m\u001B[0msqlQuery\u001B[0m\u001B[0;34m)\u001B[0m\u001B[0;34m,\u001B[0m \u001B[0mself\u001B[0m\u001B[0;34m)\u001B[0m\u001B[0;34m\u001B[0m\u001B[0;34m\u001B[0m\u001B[0m\n",
       "\u001B[0m\u001B[1;32m   1120\u001B[0m         \u001B[0;32mfinally\u001B[0m\u001B[0;34m:\u001B[0m\u001B[0;34m\u001B[0m\u001B[0;34m\u001B[0m\u001B[0m\n",
       "\u001B[1;32m   1121\u001B[0m             \u001B[0;32mif\u001B[0m \u001B[0mlen\u001B[0m\u001B[0;34m(\u001B[0m\u001B[0mkwargs\u001B[0m\u001B[0;34m)\u001B[0m \u001B[0;34m>\u001B[0m \u001B[0;36m0\u001B[0m\u001B[0;34m:\u001B[0m\u001B[0;34m\u001B[0m\u001B[0;34m\u001B[0m\u001B[0m\n",
       "\n",
       "\u001B[0;32m/databricks/spark/python/lib/py4j-0.10.9.5-src.zip/py4j/java_gateway.py\u001B[0m in \u001B[0;36m__call__\u001B[0;34m(self, *args)\u001B[0m\n",
       "\u001B[1;32m   1319\u001B[0m \u001B[0;34m\u001B[0m\u001B[0m\n",
       "\u001B[1;32m   1320\u001B[0m         \u001B[0manswer\u001B[0m \u001B[0;34m=\u001B[0m \u001B[0mself\u001B[0m\u001B[0;34m.\u001B[0m\u001B[0mgateway_client\u001B[0m\u001B[0;34m.\u001B[0m\u001B[0msend_command\u001B[0m\u001B[0;34m(\u001B[0m\u001B[0mcommand\u001B[0m\u001B[0;34m)\u001B[0m\u001B[0;34m\u001B[0m\u001B[0;34m\u001B[0m\u001B[0m\n",
       "\u001B[0;32m-> 1321\u001B[0;31m         return_value = get_return_value(\n",
       "\u001B[0m\u001B[1;32m   1322\u001B[0m             answer, self.gateway_client, self.target_id, self.name)\n",
       "\u001B[1;32m   1323\u001B[0m \u001B[0;34m\u001B[0m\u001B[0m\n",
       "\n",
       "\u001B[0;32m/databricks/spark/python/pyspark/sql/utils.py\u001B[0m in \u001B[0;36mdeco\u001B[0;34m(*a, **kw)\u001B[0m\n",
       "\u001B[1;32m    200\u001B[0m                 \u001B[0;31m# Hide where the exception came from that shows a non-Pythonic\u001B[0m\u001B[0;34m\u001B[0m\u001B[0;34m\u001B[0m\u001B[0;34m\u001B[0m\u001B[0m\n",
       "\u001B[1;32m    201\u001B[0m                 \u001B[0;31m# JVM exception message.\u001B[0m\u001B[0;34m\u001B[0m\u001B[0;34m\u001B[0m\u001B[0;34m\u001B[0m\u001B[0m\n",
       "\u001B[0;32m--> 202\u001B[0;31m                 \u001B[0;32mraise\u001B[0m \u001B[0mconverted\u001B[0m \u001B[0;32mfrom\u001B[0m \u001B[0;32mNone\u001B[0m\u001B[0;34m\u001B[0m\u001B[0;34m\u001B[0m\u001B[0m\n",
       "\u001B[0m\u001B[1;32m    203\u001B[0m             \u001B[0;32melse\u001B[0m\u001B[0;34m:\u001B[0m\u001B[0;34m\u001B[0m\u001B[0;34m\u001B[0m\u001B[0m\n",
       "\u001B[1;32m    204\u001B[0m                 \u001B[0;32mraise\u001B[0m\u001B[0;34m\u001B[0m\u001B[0;34m\u001B[0m\u001B[0m\n",
       "\n",
       "\u001B[0;31mAnalysisException\u001B[0m: Table ais.UpdatedPub150_US already exists"
      ]
     },
     "metadata": {
      "application/vnd.databricks.v1+output": {
       "arguments": {},
       "data": "\u001B[0;31m---------------------------------------------------------------------------\u001B[0m\n\u001B[0;31mAnalysisException\u001B[0m                         Traceback (most recent call last)\n\u001B[0;32m<command-97616581672699>\u001B[0m in \u001B[0;36m<cell line: 5>\u001B[0;34m()\u001B[0m\n\u001B[1;32m      3\u001B[0m \u001B[0;34m\u001B[0m\u001B[0m\n\u001B[1;32m      4\u001B[0m \u001B[0;31m# Register the table in the Spark catalog\u001B[0m\u001B[0;34m\u001B[0m\u001B[0;34m\u001B[0m\u001B[0;34m\u001B[0m\u001B[0m\n\u001B[0;32m----> 5\u001B[0;31m \u001B[0mspark\u001B[0m\u001B[0;34m.\u001B[0m\u001B[0msql\u001B[0m\u001B[0;34m(\u001B[0m\u001B[0;34m\"CREATE TABLE ais.UpdatedPub150_US USING delta LOCATION 'dbfs:/mnt/delta-lake/ais/UpdatedPub150_US'\"\u001B[0m\u001B[0;34m)\u001B[0m\u001B[0;34m\u001B[0m\u001B[0;34m\u001B[0m\u001B[0m\n\u001B[0m\n\u001B[0;32m/databricks/spark/python/pyspark/instrumentation_utils.py\u001B[0m in \u001B[0;36mwrapper\u001B[0;34m(*args, **kwargs)\u001B[0m\n\u001B[1;32m     46\u001B[0m             \u001B[0mstart\u001B[0m \u001B[0;34m=\u001B[0m \u001B[0mtime\u001B[0m\u001B[0;34m.\u001B[0m\u001B[0mperf_counter\u001B[0m\u001B[0;34m(\u001B[0m\u001B[0;34m)\u001B[0m\u001B[0;34m\u001B[0m\u001B[0;34m\u001B[0m\u001B[0m\n\u001B[1;32m     47\u001B[0m             \u001B[0;32mtry\u001B[0m\u001B[0;34m:\u001B[0m\u001B[0;34m\u001B[0m\u001B[0;34m\u001B[0m\u001B[0m\n\u001B[0;32m---> 48\u001B[0;31m                 \u001B[0mres\u001B[0m \u001B[0;34m=\u001B[0m \u001B[0mfunc\u001B[0m\u001B[0;34m(\u001B[0m\u001B[0;34m*\u001B[0m\u001B[0margs\u001B[0m\u001B[0;34m,\u001B[0m \u001B[0;34m**\u001B[0m\u001B[0mkwargs\u001B[0m\u001B[0;34m)\u001B[0m\u001B[0;34m\u001B[0m\u001B[0;34m\u001B[0m\u001B[0m\n\u001B[0m\u001B[1;32m     49\u001B[0m                 logger.log_success(\n\u001B[1;32m     50\u001B[0m                     \u001B[0mmodule_name\u001B[0m\u001B[0;34m,\u001B[0m \u001B[0mclass_name\u001B[0m\u001B[0;34m,\u001B[0m \u001B[0mfunction_name\u001B[0m\u001B[0;34m,\u001B[0m \u001B[0mtime\u001B[0m\u001B[0;34m.\u001B[0m\u001B[0mperf_counter\u001B[0m\u001B[0;34m(\u001B[0m\u001B[0;34m)\u001B[0m \u001B[0;34m-\u001B[0m \u001B[0mstart\u001B[0m\u001B[0;34m,\u001B[0m \u001B[0msignature\u001B[0m\u001B[0;34m\u001B[0m\u001B[0;34m\u001B[0m\u001B[0m\n\n\u001B[0;32m/databricks/spark/python/pyspark/sql/session.py\u001B[0m in \u001B[0;36msql\u001B[0;34m(self, sqlQuery, **kwargs)\u001B[0m\n\u001B[1;32m   1117\u001B[0m             \u001B[0msqlQuery\u001B[0m \u001B[0;34m=\u001B[0m \u001B[0mformatter\u001B[0m\u001B[0;34m.\u001B[0m\u001B[0mformat\u001B[0m\u001B[0;34m(\u001B[0m\u001B[0msqlQuery\u001B[0m\u001B[0;34m,\u001B[0m \u001B[0;34m**\u001B[0m\u001B[0mkwargs\u001B[0m\u001B[0;34m)\u001B[0m\u001B[0;34m\u001B[0m\u001B[0;34m\u001B[0m\u001B[0m\n\u001B[1;32m   1118\u001B[0m         \u001B[0;32mtry\u001B[0m\u001B[0;34m:\u001B[0m\u001B[0;34m\u001B[0m\u001B[0;34m\u001B[0m\u001B[0m\n\u001B[0;32m-> 1119\u001B[0;31m             \u001B[0;32mreturn\u001B[0m \u001B[0mDataFrame\u001B[0m\u001B[0;34m(\u001B[0m\u001B[0mself\u001B[0m\u001B[0;34m.\u001B[0m\u001B[0m_jsparkSession\u001B[0m\u001B[0;34m.\u001B[0m\u001B[0msql\u001B[0m\u001B[0;34m(\u001B[0m\u001B[0msqlQuery\u001B[0m\u001B[0;34m)\u001B[0m\u001B[0;34m,\u001B[0m \u001B[0mself\u001B[0m\u001B[0;34m)\u001B[0m\u001B[0;34m\u001B[0m\u001B[0;34m\u001B[0m\u001B[0m\n\u001B[0m\u001B[1;32m   1120\u001B[0m         \u001B[0;32mfinally\u001B[0m\u001B[0;34m:\u001B[0m\u001B[0;34m\u001B[0m\u001B[0;34m\u001B[0m\u001B[0m\n\u001B[1;32m   1121\u001B[0m             \u001B[0;32mif\u001B[0m \u001B[0mlen\u001B[0m\u001B[0;34m(\u001B[0m\u001B[0mkwargs\u001B[0m\u001B[0;34m)\u001B[0m \u001B[0;34m>\u001B[0m \u001B[0;36m0\u001B[0m\u001B[0;34m:\u001B[0m\u001B[0;34m\u001B[0m\u001B[0;34m\u001B[0m\u001B[0m\n\n\u001B[0;32m/databricks/spark/python/lib/py4j-0.10.9.5-src.zip/py4j/java_gateway.py\u001B[0m in \u001B[0;36m__call__\u001B[0;34m(self, *args)\u001B[0m\n\u001B[1;32m   1319\u001B[0m \u001B[0;34m\u001B[0m\u001B[0m\n\u001B[1;32m   1320\u001B[0m         \u001B[0manswer\u001B[0m \u001B[0;34m=\u001B[0m \u001B[0mself\u001B[0m\u001B[0;34m.\u001B[0m\u001B[0mgateway_client\u001B[0m\u001B[0;34m.\u001B[0m\u001B[0msend_command\u001B[0m\u001B[0;34m(\u001B[0m\u001B[0mcommand\u001B[0m\u001B[0;34m)\u001B[0m\u001B[0;34m\u001B[0m\u001B[0;34m\u001B[0m\u001B[0m\n\u001B[0;32m-> 1321\u001B[0;31m         return_value = get_return_value(\n\u001B[0m\u001B[1;32m   1322\u001B[0m             answer, self.gateway_client, self.target_id, self.name)\n\u001B[1;32m   1323\u001B[0m \u001B[0;34m\u001B[0m\u001B[0m\n\n\u001B[0;32m/databricks/spark/python/pyspark/sql/utils.py\u001B[0m in \u001B[0;36mdeco\u001B[0;34m(*a, **kw)\u001B[0m\n\u001B[1;32m    200\u001B[0m                 \u001B[0;31m# Hide where the exception came from that shows a non-Pythonic\u001B[0m\u001B[0;34m\u001B[0m\u001B[0;34m\u001B[0m\u001B[0;34m\u001B[0m\u001B[0m\n\u001B[1;32m    201\u001B[0m                 \u001B[0;31m# JVM exception message.\u001B[0m\u001B[0;34m\u001B[0m\u001B[0;34m\u001B[0m\u001B[0;34m\u001B[0m\u001B[0m\n\u001B[0;32m--> 202\u001B[0;31m                 \u001B[0;32mraise\u001B[0m \u001B[0mconverted\u001B[0m \u001B[0;32mfrom\u001B[0m \u001B[0;32mNone\u001B[0m\u001B[0;34m\u001B[0m\u001B[0;34m\u001B[0m\u001B[0m\n\u001B[0m\u001B[1;32m    203\u001B[0m             \u001B[0;32melse\u001B[0m\u001B[0;34m:\u001B[0m\u001B[0;34m\u001B[0m\u001B[0;34m\u001B[0m\u001B[0m\n\u001B[1;32m    204\u001B[0m                 \u001B[0;32mraise\u001B[0m\u001B[0;34m\u001B[0m\u001B[0;34m\u001B[0m\u001B[0m\n\n\u001B[0;31mAnalysisException\u001B[0m: Table ais.UpdatedPub150_US already exists",
       "errorSummary": "<span class='ansi-red-fg'>AnalysisException</span>: Table ais.UpdatedPub150_US already exists",
       "errorTraceType": "ansi",
       "metadata": {},
       "type": "ipynbError"
      }
     },
     "output_type": "display_data"
    }
   ],
   "source": [
    "# Save the DataFrame to the Delta Lake table location\n",
    "df_US.write.format(\"delta\").mode(\"overwrite\").save(\"dbfs:/mnt/delta-lake/ais/UpdatedPub150_US\")\n",
    " \n",
    "# Register the table in the Spark catalog\n",
    "spark.sql(\"CREATE TABLE ais.UpdatedPub150_US USING delta LOCATION 'dbfs:/mnt/delta-lake/ais/UpdatedPub150_US'\")"
   ]
  },
  {
   "cell_type": "code",
   "execution_count": 0,
   "metadata": {
    "application/vnd.databricks.v1+cell": {
     "cellMetadata": {
      "byteLimit": 2048000,
      "rowLimit": 10000
     },
     "inputWidgets": {},
     "nuid": "eaa06638-cd49-44cd-8806-53d5cb870baf",
     "showTitle": false,
     "title": ""
    }
   },
   "outputs": [],
   "source": [
    "df_UpdatedPub150_US = spark.read.table(\"ais.UpdatedPub150_US\")"
   ]
  },
  {
   "cell_type": "code",
   "execution_count": 0,
   "metadata": {
    "application/vnd.databricks.v1+cell": {
     "cellMetadata": {
      "byteLimit": 2048000,
      "rowLimit": 10000
     },
     "inputWidgets": {},
     "nuid": "cf5c40c3-b447-44a2-a930-0579eab356da",
     "showTitle": false,
     "title": ""
    }
   },
   "outputs": [
    {
     "output_type": "stream",
     "name": "stdout",
     "output_type": "stream",
     "text": [
      "root\n |-- World_Port_Index_Number: integer (nullable = true)\n |-- Region_Name: string (nullable = true)\n |-- Main_Port_Name: string (nullable = true)\n |-- Alternate_Port_Name: string (nullable = true)\n |-- UN/LOCODE: string (nullable = true)\n |-- Country_Code: string (nullable = true)\n |-- World_Water_Body: string (nullable = true)\n |-- IHO_S-130_Sea_Area: string (nullable = true)\n |-- Sailing_Direction_or_Publication: string (nullable = true)\n |-- Publication_Link: string (nullable = true)\n |-- Standard_Nautical_Chart: string (nullable = true)\n |-- IHO_S-57_Electronic_Navigational_Chart: string (nullable = true)\n |-- IHO_S-101_Electronic_Navigational_Chart: string (nullable = true)\n |-- Digital_Nautical_Chart: string (nullable = true)\n |-- Tidal_Range__m_: double (nullable = true)\n |-- Entrance_Width__m_: double (nullable = true)\n |-- Channel_Depth__m_: double (nullable = true)\n |-- Anchorage_Depth__m_: double (nullable = true)\n |-- Cargo_Pier_Depth__m_: double (nullable = true)\n |-- Oil_Terminal_Depth__m_: double (nullable = true)\n |-- Liquified_Natural_Gas_Terminal_Depth__m_: double (nullable = true)\n |-- Maximum_Vessel_Length__m_: double (nullable = true)\n |-- Maximum_Vessel_Beam__m_: double (nullable = true)\n |-- Maximum_Vessel_Draft__m_: double (nullable = true)\n |-- Offshore_Maximum_Vessel_Length__m_: double (nullable = true)\n |-- Offshore_Maximum_Vessel_Beam__m_: integer (nullable = true)\n |-- Offshore_Maximum_Vessel_Draft__m_: double (nullable = true)\n |-- Harbor_Size: string (nullable = true)\n |-- Harbor_Type: string (nullable = true)\n |-- Harbor_Use: string (nullable = true)\n |-- Shelter_Afforded: string (nullable = true)\n |-- Entrance_Restriction_-_Tide: string (nullable = true)\n |-- Entrance_Restriction_-_Heavy_Swell: string (nullable = true)\n |-- Entrance_Restriction_-_Ice: string (nullable = true)\n |-- Entrance_Restriction_-_Other: string (nullable = true)\n |-- Overhead_Limits: string (nullable = true)\n |-- Underkeel_Clearance_Management_System: string (nullable = true)\n |-- Good_Holding_Ground: string (nullable = true)\n |-- Turning_Area: string (nullable = true)\n |-- Port_Security: string (nullable = true)\n |-- Estimated_Time_of_Arrival_Message: string (nullable = true)\n |-- Quarantine_-_Pratique: string (nullable = true)\n |-- Quarantine_-_Sanitation: string (nullable = true)\n |-- Quarantine_-_Other: string (nullable = true)\n |-- Traffic_Separation_Scheme: string (nullable = true)\n |-- Vessel_Traffic_Service: string (nullable = true)\n |-- First_Port_of_Entry: string (nullable = true)\n |-- US_Representative: string (nullable = true)\n |-- Pilotage_-_Compulsory: string (nullable = true)\n |-- Pilotage_-_Available: string (nullable = true)\n |-- Pilotage_-_Local_Assistance: string (nullable = true)\n |-- Pilotage_-_Advisable: string (nullable = true)\n |-- Tugs_-_Salvage: string (nullable = true)\n |-- Tugs_-_Assistance: string (nullable = true)\n |-- Communications_-_Telephone: string (nullable = true)\n |-- Communications_-_Telefax: string (nullable = true)\n |-- Communications_-_Radio: string (nullable = true)\n |-- Communications_-_Radiotelephone: string (nullable = true)\n |-- Communications_-_Airport: string (nullable = true)\n |-- Communications_-_Rail: string (nullable = true)\n |-- Search_and_Rescue: string (nullable = true)\n |-- NAVAREA: string (nullable = true)\n |-- Facilities_-_Wharves: string (nullable = true)\n |-- Facilities_-_Anchorage: string (nullable = true)\n |-- Facilities_-_Dangerous_Cargo_Anchorage: string (nullable = true)\n |-- Facilities_-_Med_Mooring: string (nullable = true)\n |-- Facilities_-_Beach_Mooring: string (nullable = true)\n |-- Facilities_-_Ice_Mooring: string (nullable = true)\n |-- Facilities_-_Ro-Ro: string (nullable = true)\n |-- Facilities_-_Solid_Bulk: string (nullable = true)\n |-- Facilities_-_Liquid_Bulk: string (nullable = true)\n |-- Facilities_-_Container: string (nullable = true)\n |-- Facilities_-_Breakbulk: string (nullable = true)\n |-- Facilities_-_Oil_Terminal: string (nullable = true)\n |-- Facilities_-_LNG_Terminal: string (nullable = true)\n |-- Facilities_-_Other: string (nullable = true)\n |-- Medical_Facilities: string (nullable = true)\n |-- Garbage_Disposal: string (nullable = true)\n |-- Chemical_Holding_Tank_Disposal: string (nullable = true)\n |-- Degaussing: string (nullable = true)\n |-- Dirty_Ballast_Disposal: string (nullable = true)\n |-- Cranes_-_Fixed: string (nullable = true)\n |-- Cranes_-_Mobile: string (nullable = true)\n |-- Cranes_-_Floating: string (nullable = true)\n |-- Cranes_-_Container: string (nullable = true)\n |-- Lifts_-_100+_Tons: string (nullable = true)\n |-- Lifts_-_50-100_Tons: string (nullable = true)\n |-- Lifts_-_25-49_Tons: string (nullable = true)\n |-- Lifts_-_0-24_Tons: string (nullable = true)\n |-- Services_-_Longshoremen: string (nullable = true)\n |-- Services_-_Electricity: string (nullable = true)\n |-- Services_-_Steam: string (nullable = true)\n |-- Services_-_Navigation_Equipment: string (nullable = true)\n |-- Services_-_Electrical_Repair: string (nullable = true)\n |-- Services_-_Ice_Breaking: string (nullable = true)\n |-- Services_-_Diving: string (nullable = true)\n |-- Supplies_-_Provisions: string (nullable = true)\n |-- Supplies_-_Potable_Water: string (nullable = true)\n |-- Supplies_-_Fuel_Oil: string (nullable = true)\n |-- Supplies_-_Diesel_Oil: string (nullable = true)\n |-- Supplies_-_Aviation_Fuel: string (nullable = true)\n |-- Supplies_-_Deck: string (nullable = true)\n |-- Supplies_-_Engine: string (nullable = true)\n |-- Repairs: string (nullable = true)\n |-- Dry_Dock: string (nullable = true)\n |-- Railway: string (nullable = true)\n |-- Latitude: double (nullable = true)\n |-- Longitude: double (nullable = true)\n |-- filename: string (nullable = true)\n\n"
     ]
    }
   ],
   "source": [
    "df_UpdatedPub150_US.printSchema()"
   ]
  },
  {
   "cell_type": "code",
   "execution_count": 0,
   "metadata": {
    "application/vnd.databricks.v1+cell": {
     "cellMetadata": {
      "byteLimit": 2048000,
      "rowLimit": 10000
     },
     "inputWidgets": {},
     "nuid": "ba3079fc-b399-42d7-ae6f-d97e476b15f2",
     "showTitle": false,
     "title": ""
    }
   },
   "outputs": [
    {
     "output_type": "display_data",
     "data": {
      "image/png": "[encoded data removed]"
     },
     "metadata": {
      "application/vnd.databricks.v1+output": {
       "addedWidgets": {},
       "arguments": {},
       "data": "data:image/png;base64,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\n",
       "datasetInfos": [],
       "metadata": {},
       "removedWidgets": [],
       "type": "image"
      }
     },
     "output_type": "display_data"
    }
   ],
   "source": [
    "import numpy as np\n",
    "import matplotlib.pyplot as plt\n",
    "\n",
    "#spark dataframe to use\n",
    "df_spark_to_use = df_UpdatedPub150_US\n",
    "\n",
    "# Convert the Spark DataFrame to a pandas DataFrame\n",
    "df_pandas = df_spark_to_use.toPandas()\n",
    " \n",
    "# Set the figure size\n",
    "fig, ax = plt.subplots(figsize=(14, 8))\n",
    " \n",
    "# Create a scatter plot using matplotlib\n",
    "ax.scatter(df_pandas[\"Longitude\"], df_pandas[\"Latitude\"], s=4)\n",
    " \n",
    "# Set the plot title and axis labels\n",
    "ax.set_title(\"National Geospatial-Intelligence Agency (NGA) Maritime Safety Information. World Port Index (Pub 150)\\n'Country_Code' == 'United States'\")\n",
    "ax.set_xlabel(\"Longitude\")\n",
    "ax.set_ylabel(\"Latitude\")\n",
    " \n",
    "# Show the plot\n",
    "plt.show()"
   ]
  },
  {
   "cell_type": "code",
   "execution_count": 0,
   "metadata": {
    "application/vnd.databricks.v1+cell": {
     "cellMetadata": {
      "byteLimit": 2048000,
      "rowLimit": 10000
     },
     "inputWidgets": {},
     "nuid": "6d211f84-5cd4-4f74-a41b-02ff66a03d4f",
     "showTitle": false,
     "title": ""
    }
   },
   "outputs": [
    {
     "output_type": "display_data",
     "data": {
      "image/png": "[encoded data removed]"
     },
     "metadata": {
      "application/vnd.databricks.v1+output": {
       "addedWidgets": {},
       "arguments": {},
       "data": "data:image/png;base64,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\n",
       "datasetInfos": [],
       "metadata": {},
       "removedWidgets": [],
       "type": "image"
      }
     },
     "output_type": "display_data"
    }
   ],
   "source": [
    "import numpy as np\n",
    "import matplotlib.pyplot as plt\n",
    "\n",
    "#spark dataframe to use\n",
    "df_spark_to_use = df_UpdatedPub150_US\n",
    "\n",
    "# Specify the bounding box\n",
    "min_lat, max_lat, min_lon, max_lon = 20, 60, -140, -60\n",
    " \n",
    "# Filter the data to only include points within the bounding box\n",
    "df_filtered = df_spark_to_use.filter((df_spark_to_use[\"Latitude\"] >= min_lat) & (df_spark_to_use[\"Latitude\"] <= max_lat) & \\\n",
    "                        (df_spark_to_use[\"Longitude\"] >= min_lon) & (df_spark_to_use[\"Longitude\"] <= max_lon))\n",
    " \n",
    "# Convert the Spark DataFrame to a pandas DataFrame\n",
    "df_pandas = df_filtered.toPandas()\n",
    " \n",
    "# Set the figure size\n",
    "fig, ax = plt.subplots(figsize=(14, 8))\n",
    " \n",
    "# Create a scatter plot using matplotlib\n",
    "ax.scatter(df_pandas[\"Longitude\"], df_pandas[\"Latitude\"], s=4)\n",
    " \n",
    "# Set the plot title and axis labels\n",
    "ax.set_title(\"National Geospatial-Intelligence Agency (NGA) Maritime Safety Information. World Port Index (Pub 150)\\nCountry_Code = 'United States'\\nmin_lat, max_lat, min_lon, max_lon = 20, 60, -140, -60\")\n",
    "ax.set_xlabel(\"Longitude\")\n",
    "ax.set_ylabel(\"Latitude\")\n",
    " \n",
    "# Show the plot\n",
    "plt.show()"
   ]
  },
  {
   "cell_type": "code",
   "execution_count": 0,
   "metadata": {
    "application/vnd.databricks.v1+cell": {
     "cellMetadata": {
      "byteLimit": 2048000,
      "rowLimit": 10000
     },
     "inputWidgets": {},
     "nuid": "4847c678-08f8-4fbc-9630-352d7675f3fd",
     "showTitle": false,
     "title": ""
    }
   },
   "outputs": [],
   "source": [
    "df_Oil_Terminal_Depth_gt_0 = spark.read.table(\"ais.UpdatedPub150\") \\\n",
    "    .filter(\"Oil_Terminal_Depth__m_ > 0\")"
   ]
  },
  {
   "cell_type": "code",
   "execution_count": 0,
   "metadata": {
    "application/vnd.databricks.v1+cell": {
     "cellMetadata": {
      "byteLimit": 2048000,
      "rowLimit": 10000
     },
     "inputWidgets": {},
     "nuid": "e61a52e3-c3f9-45db-be97-304da3678b1c",
     "showTitle": false,
     "title": ""
    }
   },
   "outputs": [
    {
     "output_type": "stream",
     "name": "stdout",
     "output_type": "stream",
     "text": [
      "Out[42]: 1688"
     ]
    }
   ],
   "source": [
    "df_Oil_Terminal_Depth_gt_0.count()"
   ]
  },
  {
   "cell_type": "code",
   "execution_count": 0,
   "metadata": {
    "application/vnd.databricks.v1+cell": {
     "cellMetadata": {
      "byteLimit": 2048000,
      "rowLimit": 10000
     },
     "inputWidgets": {},
     "nuid": "88e19eed-46ab-4b3d-ad73-12125bd72173",
     "showTitle": false,
     "title": ""
    }
   },
   "outputs": [
    {
     "output_type": "stream",
     "name": "stdout",
     "output_type": "stream",
     "text": [
      "Out[86]: DataFrame[]"
     ]
    }
   ],
   "source": [
    "# Save the DataFrame to the Delta Lake table location\n",
    "df_Oil_Terminal_Depth_gt_0.write.format(\"delta\").mode(\"overwrite\").save(\"dbfs:/mnt/delta-lake/ais/UpdatedPub150_Oil_Terminal_Depth_gt_0\")\n",
    "\n",
    "# Register the table in the Spark catalog\n",
    "spark.sql(\"CREATE TABLE ais.UpdatedPub150_Oil_Terminal_Depth_gt_0 USING delta LOCATION 'dbfs:/mnt/delta-lake/ais/UpdatedPub150_Oil_Terminal_Depth_gt_0'\")"
   ]
  },
  {
   "cell_type": "code",
   "execution_count": 0,
   "metadata": {
    "application/vnd.databricks.v1+cell": {
     "cellMetadata": {
      "byteLimit": 2048000,
      "rowLimit": 10000
     },
     "inputWidgets": {},
     "nuid": "bfac3259-0e5d-46fc-a88f-ee1f6a05546f",
     "showTitle": false,
     "title": ""
    }
   },
   "outputs": [
    {
     "output_type": "display_data",
     "data": {
      "image/png": "[encoded data removed]"
     },
     "metadata": {
      "application/vnd.databricks.v1+output": {
       "addedWidgets": {},
       "arguments": {},
       "data": "data:image/png;base64,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\n",
       "datasetInfos": [],
       "metadata": {},
       "removedWidgets": [],
       "type": "image"
      }
     },
     "output_type": "display_data"
    }
   ],
   "source": [
    "import numpy as np\n",
    "import matplotlib.pyplot as plt\n",
    "\n",
    "#spark dataframe to use\n",
    "df_spark_to_use = df_Oil_Terminal_Depth_gt_0\n",
    "\n",
    "# Convert the Spark DataFrame to a pandas DataFrame\n",
    "df_pandas = df_spark_to_use.toPandas()\n",
    " \n",
    "# Set the figure size\n",
    "fig, ax = plt.subplots(figsize=(14, 8))\n",
    " \n",
    "# Create a scatter plot using matplotlib\n",
    "ax.scatter(df_pandas[\"Longitude\"], df_pandas[\"Latitude\"], s=4)\n",
    " \n",
    "# Set the plot title and axis labels\n",
    "ax.set_title(\"National Geospatial-Intelligence Agency (NGA) Maritime Safety Information. World Port Index (Pub 150)\\nOil_Terminal_Depth__m_ > 0\")\n",
    "ax.set_xlabel(\"Longitude\")\n",
    "ax.set_ylabel(\"Latitude\")\n",
    " \n",
    "# Show the plot\n",
    "plt.show()"
   ]
  },
  {
   "cell_type": "code",
   "execution_count": 0,
   "metadata": {
    "application/vnd.databricks.v1+cell": {
     "cellMetadata": {
      "byteLimit": 2048000,
      "rowLimit": 10000
     },
     "inputWidgets": {},
     "nuid": "69862cc3-9c33-4929-ab45-5af012cb1741",
     "showTitle": false,
     "title": ""
    }
   },
   "outputs": [],
   "source": [
    "df_UpdatedPub150_Oil_Terminal_Depth_gt_0_US = spark.sql(\"\"\"\n",
    "    SELECT * \n",
    "    FROM ais.UpdatedPub150_US\n",
    "    INTERSECT\n",
    "    SELECT *\n",
    "    FROM ais.UpdatedPub150_Oil_Terminal_Depth_gt_0\n",
    "\"\"\")\n"
   ]
  },
  {
   "cell_type": "code",
   "execution_count": 0,
   "metadata": {
    "application/vnd.databricks.v1+cell": {
     "cellMetadata": {
      "byteLimit": 2048000,
      "rowLimit": 10000
     },
     "inputWidgets": {},
     "nuid": "6cc3c733-10fc-4652-820d-184fec9a9702",
     "showTitle": false,
     "title": ""
    }
   },
   "outputs": [
    {
     "output_type": "display_data",
     "data": {
      "image/png": "[encoded data removed]"
     },
     "metadata": {
      "application/vnd.databricks.v1+output": {
       "addedWidgets": {},
       "arguments": {},
       "data": "data:image/png;base64,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\n",
       "datasetInfos": [],
       "metadata": {},
       "removedWidgets": [],
       "type": "image"
      }
     },
     "output_type": "display_data"
    }
   ],
   "source": [
    "import numpy as np\n",
    "import matplotlib.pyplot as plt\n",
    "\n",
    "#spark dataframe to use\n",
    "df_spark_to_use = df_UpdatedPub150_Oil_Terminal_Depth_gt_0_US\n",
    "\n",
    "# Specify the bounding box\n",
    "min_lat, max_lat, min_lon, max_lon = 20, 60, -140, -60\n",
    " \n",
    "# Filter the data to only include points within the bounding box\n",
    "df_filtered = df_spark_to_use.filter((df_spark_to_use[\"Latitude\"] >= min_lat) & (df_spark_to_use[\"Latitude\"] <= max_lat) & \\\n",
    "                        (df_spark_to_use[\"Longitude\"] >= min_lon) & (df_spark_to_use[\"Longitude\"] <= max_lon))\n",
    " \n",
    "# Convert the Spark DataFrame to a pandas DataFrame\n",
    "df_pandas = df_filtered.toPandas()\n",
    " \n",
    "# Set the figure size\n",
    "fig, ax = plt.subplots(figsize=(14, 8))\n",
    " \n",
    "# Create a scatter plot using matplotlib\n",
    "ax.scatter(df_pandas[\"Longitude\"], df_pandas[\"Latitude\"], s=4)\n",
    " \n",
    "# Set the plot title and axis labels\n",
    "ax.set_title(\"National Geospatial-Intelligence Agency (NGA) Maritime Safety Information. World Port Index (Pub 150)\\nmin_lat, max_lat, min_lon, max_lon = 20, 60, -140, -60\\nCountry_Code == 'United States'\")\n",
    "ax.set_xlabel(\"Longitude\")\n",
    "ax.set_ylabel(\"Latitude\")\n",
    " \n",
    "# Show the plot\n",
    "plt.show()"
   ]
  }
 ],
 "metadata": {
  "application/vnd.databricks.v1+notebook": {
   "dashboards": [],
   "language": "python",
   "notebookMetadata": {
    "mostRecentlyExecutedCommandWithImplicitDF": {
     "commandId": 3550221695514580,
     "dataframes": [
      "_sqldf"
     ]
    },
    "pythonIndentUnit": 4
   },
   "notebookName": "Databricks-AIS-03-NGA-World-Port-Index",
   "widgets": {}
  }
 },
 "nbformat": 4,
 "nbformat_minor": 0
}
