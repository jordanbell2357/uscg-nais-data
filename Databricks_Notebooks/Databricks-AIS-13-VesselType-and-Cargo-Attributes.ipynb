{
 "cells": [
  {
   "cell_type": "markdown",
   "metadata": {
    "application/vnd.databricks.v1+cell": {
     "cellMetadata": {},
     "inputWidgets": {},
     "nuid": "5d5a303a-0256-4ffc-81bd-78adce057f77",
     "showTitle": false,
     "title": ""
    }
   },
   "source": [
    "https://marinecadastre.gov/data/\n",
    "\n",
    "[Office for Coastal Management, 2023: Nationwide Automatic Identification System 2022, https://www.fisheries.noaa.gov/inport/item/67336](https://www.fisheries.noaa.gov/inport/item/67336)\n",
    "\n",
    "https://coast.noaa.gov/data/marinecadastre/ais/data-dictionary.pdf"
   ]
  },
  {
   "cell_type": "markdown",
   "metadata": {
    "application/vnd.databricks.v1+cell": {
     "cellMetadata": {},
     "inputWidgets": {},
     "nuid": "08631550-f573-4a74-be4e-2aea4b3129a6",
     "showTitle": false,
     "title": ""
    }
   },
   "source": [
    "### M.1371 : Technical characteristics for an automatic identification system using time division multiple access in the VHF maritime mobile frequency band (Rec. ITU-R M.1371-5 )\n",
    "\n",
    "https://www.itu.int/rec/R-REC-M.1371-5-201402-I/en"
   ]
  },
  {
   "cell_type": "markdown",
   "metadata": {
    "application/vnd.databricks.v1+cell": {
     "cellMetadata": {},
     "inputWidgets": {},
     "nuid": "5aedefad-4b0f-47e6-ad40-4a9c1716e46d",
     "showTitle": false,
     "title": ""
    }
   },
   "source": [
    "| Identifier No. | Vessel Type                                                  |\n",
    "| -------------- | ------------------------------------------------------------ |\n",
    "| 50             | Special craft                                                |\n",
    "| 51             | Pilot vessel                                                 |\n",
    "| 52             | Search and rescue vessels                                    |\n",
    "| 53             | Tugs                                                         |\n",
    "| 54             | Port tenders                                                 |\n",
    "| 55             | Vessels with anti-pollution facilities or equipment          |\n",
    "| 56             | Law enforcement vessels                                      |\n",
    "| 57             | Spare – for assignments to local vessels                     |\n",
    "| 58             | Spare – for assignments to local vessels                     |\n",
    "| 59             | Medical transports (as defined in the 1949 Geneva Conventions and Additional Protocols) |\n",
    "| 60             | Ships and aircraft of States not parties to an armed conflict |\n",
    "| 0X             | Fishing vessels                                              |\n",
    "| 1X             | Carrying dangerous goods (DG), harmful substances (HS), or marine pollutants (MP), or IMO hazard or pollutant category X |\n",
    "| 2X             | Towing vessels                                               |\n",
    "| 3X             | Vessels engaged in dredging or underwater operations         |\n",
    "| 4X             | Vessels engaged in diving operations                         |\n",
    "| 5X             | Reserved for future use                                      |\n",
    "| 6X             | Passenger ships                                              |\n",
    "| 7X             | Cargo ships                                                  |\n",
    "| 8X             | Tankers                                                      |\n",
    "| 9X             | Other types of ships                                         |\n",
    "\n",
    "Table 53: Identifiers to be used by ships to report their type (Rec. ITU-R M.1371-5)"
   ]
  },
  {
   "cell_type": "code",
   "execution_count": 0,
   "metadata": {
    "application/vnd.databricks.v1+cell": {
     "cellMetadata": {},
     "inputWidgets": {},
     "nuid": "75be7287-6177-4f71-afcb-bc884526b90c",
     "showTitle": false,
     "title": ""
    }
   },
   "outputs": [
    {
     "output_type": "stream",
     "name": "stdout",
     "output_type": "stream",
     "text": [
      "+----------+--------+\n|VesselType|RowCount|\n+----------+--------+\n|        31|79406098|\n|        37|53454374|\n|        60|19154055|\n|        70|16864754|\n|        30|16137435|\n|        90|15450537|\n|        36|12956210|\n|        80| 7808857|\n|        52| 7249158|\n|        57| 5204135|\n|         0| 3171373|\n|        50| 1416178|\n|        99| 1208893|\n|        33| 1202407|\n|      null| 1088028|\n|        71|  921101|\n|        79|  786554|\n|        51|  607875|\n|        89|  559722|\n|        69|  527133|\n+----------+--------+\nonly showing top 20 rows\n\n"
     ]
    }
   ],
   "source": [
    "from pyspark.sql import SparkSession\n",
    "from pyspark.sql.functions import col, count\n",
    "\n",
    "# Create a SparkSession\n",
    "spark = SparkSession.builder.getOrCreate()\n",
    "\n",
    "# Load the AIS June table into a DataFrame\n",
    "ais_june_df = spark.read.table(\"ais.june\")\n",
    "\n",
    "# Group by VesselType and calculate the count of rows for each VesselType\n",
    "vessel_type_counts = ais_june_df.groupBy(\"VesselType\").agg(count(\"*\").alias(\"RowCount\"))\n",
    "\n",
    "# Sort the DataFrame by count in descending order\n",
    "sorted_counts = vessel_type_counts.orderBy(col(\"RowCount\").desc())\n",
    "\n",
    "# Show the resulting DataFrame\n",
    "sorted_counts.show()"
   ]
  },
  {
   "cell_type": "code",
   "execution_count": 0,
   "metadata": {
    "application/vnd.databricks.v1+cell": {
     "cellMetadata": {},
     "inputWidgets": {},
     "nuid": "ca933f9d-2931-4cad-a891-0ee6216d96cb",
     "showTitle": false,
     "title": ""
    }
   },
   "outputs": [
    {
     "output_type": "stream",
     "name": "stdout",
     "output_type": "stream",
     "text": [
      "+----------+--------+\n|VesselType|RowCount|\n+----------+--------+\n|        85|     321|\n|        65|   99780|\n|       255|    1076|\n|        81|   66038|\n|        76|   19046|\n|        12|    2502|\n|        91|   35980|\n|        47|    1101|\n|         1|   29985|\n|         6|   13097|\n|        16|   13698|\n|         3|   13674|\n|        19|    3616|\n|        88|   11789|\n|         9|   19709|\n|        72|   50201|\n|        59|   15976|\n|        39|   85721|\n|        23|   29871|\n|        49|   58016|\n+----------+--------+\nonly showing top 20 rows\n\n"
     ]
    }
   ],
   "source": [
    "from pyspark.sql import SparkSession\n",
    "from pyspark.sql.functions import col, count\n",
    "\n",
    "# Create a SparkSession\n",
    "spark = SparkSession.builder.getOrCreate()\n",
    "\n",
    "# Load the AIS June table into a DataFrame\n",
    "ais_june_df = spark.read.table(\"ais.june\")\n",
    "\n",
    "# Group by VesselType and calculate the count of rows for each VesselType\n",
    "vessel_type_counts = ais_june_df.groupBy(\"VesselType\").agg(count(\"*\").alias(\"RowCount\"))\n",
    "\n",
    "# Filter the DataFrame for counts less than 100,000\n",
    "vessel_type_counts_lt_100000 = vessel_type_counts.filter(col(\"RowCount\") < 100000)\n",
    "\n",
    "# Show the resulting DataFrame\n",
    "vessel_type_counts_lt_100000.show()\n"
   ]
  },
  {
   "cell_type": "code",
   "execution_count": 0,
   "metadata": {
    "application/vnd.databricks.v1+cell": {
     "cellMetadata": {},
     "inputWidgets": {},
     "nuid": "6459f7fa-b093-4ac2-aaad-9103a49f3498",
     "showTitle": false,
     "title": ""
    }
   },
   "outputs": [
    {
     "output_type": "stream",
     "name": "stdout",
     "output_type": "stream",
     "text": [
      "Out[7]: 44"
     ]
    }
   ],
   "source": [
    "vessel_type_counts_lt_100000.count()"
   ]
  },
  {
   "cell_type": "code",
   "execution_count": 0,
   "metadata": {
    "application/vnd.databricks.v1+cell": {
     "cellMetadata": {},
     "inputWidgets": {},
     "nuid": "d14198c5-1a87-4b14-979d-5ec78585ec45",
     "showTitle": false,
     "title": ""
    }
   },
   "outputs": [
    {
     "output_type": "stream",
     "name": "stdout",
     "output_type": "stream",
     "text": [
      "+----------+--------+\n|VesselType|RowCount|\n+----------+--------+\n|        31|79406098|\n|        53|  248684|\n|        34|  164820|\n|      null| 1088028|\n|        52| 7249158|\n|        40|  351950|\n|        20|  181456|\n|        57| 5204135|\n|        54|  121266|\n|        37|53454374|\n|        35|  404309|\n|        55|  323673|\n|        51|  607875|\n|        69|  527133|\n|        50| 1416178|\n|        38|  126770|\n|        82|  249009|\n|        80| 7808857|\n|        70|16864754|\n|        60|19154055|\n+----------+--------+\nonly showing top 20 rows\n\n"
     ]
    }
   ],
   "source": [
    "from pyspark.sql import SparkSession\n",
    "from pyspark.sql.functions import col, count\n",
    "\n",
    "# Create a SparkSession\n",
    "spark = SparkSession.builder.getOrCreate()\n",
    "\n",
    "# Load the AIS June table into a DataFrame\n",
    "ais_june_df = spark.read.table(\"ais.june\")\n",
    "\n",
    "# Group by VesselType and calculate the count of rows for each VesselType\n",
    "vessel_type_counts = ais_june_df.groupBy(\"VesselType\").agg(count(\"*\").alias(\"RowCount\"))\n",
    "\n",
    "# Filter the DataFrame for counts less than 100,000\n",
    "vessel_type_counts_geq_100000 = vessel_type_counts.filter(col(\"RowCount\") >= 100000)\n",
    "\n",
    "# Show the resulting DataFrame\n",
    "vessel_type_counts_geq_100000.show()\n"
   ]
  },
  {
   "cell_type": "code",
   "execution_count": 0,
   "metadata": {
    "application/vnd.databricks.v1+cell": {
     "cellMetadata": {},
     "inputWidgets": {},
     "nuid": "8b5256a1-0f2d-4456-a9ed-5713c201a109",
     "showTitle": false,
     "title": ""
    }
   },
   "outputs": [
    {
     "output_type": "stream",
     "name": "stdout",
     "output_type": "stream",
     "text": [
      "Out[9]: 32"
     ]
    }
   ],
   "source": [
    "vessel_type_counts_geq_100000.count()"
   ]
  },
  {
   "cell_type": "code",
   "execution_count": 0,
   "metadata": {
    "application/vnd.databricks.v1+cell": {
     "cellMetadata": {},
     "inputWidgets": {},
     "nuid": "b3150390-7ff5-408f-9ad2-5ef2419e3611",
     "showTitle": false,
     "title": ""
    }
   },
   "outputs": [],
   "source": [
    "from pyspark.sql import SparkSession\n",
    "from pyspark.sql.functions import col, when\n",
    "\n",
    "# Create a SparkSession\n",
    "spark = SparkSession.builder.getOrCreate()\n",
    "\n",
    "# Load the AIS June table into a DataFrame\n",
    "ais_june_df = spark.read.table(\"ais.june\")\n",
    "\n",
    "# Create a new column \"VesselGroup\" based on the VesselType ranges\n",
    "ais_june_df = ais_june_df.withColumn(\"VesselGroup\",\n",
    "                                     when((col(\"VesselType\") >= 50) & (col(\"VesselType\") <= 60), col(\"VesselType\"))\n",
    "                                     .when((col(\"VesselType\") >= 70) & (col(\"VesselType\") <= 79), 70)\n",
    "                                     .when((col(\"VesselType\") >= 80) & (col(\"VesselType\") <= 89), 80)\n",
    "                                     .when((col(\"VesselType\") >= 90) & (col(\"VesselType\") <= 99), 90)\n",
    "                                     .otherwise(col(\"VesselType\")))"
   ]
  },
  {
   "cell_type": "code",
   "execution_count": 0,
   "metadata": {
    "application/vnd.databricks.v1+cell": {
     "cellMetadata": {},
     "inputWidgets": {},
     "nuid": "abf8c0af-aa22-431b-9791-fec53ef92c86",
     "showTitle": false,
     "title": ""
    }
   },
   "outputs": [
    {
     "output_type": "stream",
     "name": "stdout",
     "output_type": "stream",
     "text": [
      "root\n |-- MMSI: string (nullable = true)\n |-- BaseDateTime: timestamp (nullable = true)\n |-- LAT: double (nullable = true)\n |-- LON: double (nullable = true)\n |-- SOG: double (nullable = true)\n |-- COG: double (nullable = true)\n |-- Heading: double (nullable = true)\n |-- VesselName: string (nullable = true)\n |-- IMO: string (nullable = true)\n |-- CallSign: string (nullable = true)\n |-- VesselType: integer (nullable = true)\n |-- Status: integer (nullable = true)\n |-- Length: double (nullable = true)\n |-- Width: double (nullable = true)\n |-- Draft: double (nullable = true)\n |-- Cargo: string (nullable = true)\n |-- TranscieverClass: string (nullable = true)\n |-- filename: string (nullable = true)\n |-- VesselGroup: integer (nullable = true)\n\n"
     ]
    }
   ],
   "source": [
    "ais_june_df.printSchema()"
   ]
  },
  {
   "cell_type": "code",
   "execution_count": 0,
   "metadata": {
    "application/vnd.databricks.v1+cell": {
     "cellMetadata": {},
     "inputWidgets": {},
     "nuid": "33c70839-9590-41d6-b374-31538b8b7465",
     "showTitle": false,
     "title": ""
    }
   },
   "outputs": [],
   "source": [
    "display(ais_june_df)"
   ]
  },
  {
   "cell_type": "code",
   "execution_count": 0,
   "metadata": {
    "application/vnd.databricks.v1+cell": {
     "cellMetadata": {},
     "inputWidgets": {},
     "nuid": "cf69980c-dd7a-496d-8433-16ac2f94ca1f",
     "showTitle": false,
     "title": ""
    }
   },
   "outputs": [],
   "source": [
    "# Write the DataFrame with the new column to the Delta table, enabling schema migration\n",
    "ais_june_df.write.format(\"delta\").option(\"mergeSchema\", \"true\").mode(\"overwrite\").saveAsTable(\"ais.june\")"
   ]
  },
  {
   "cell_type": "code",
   "execution_count": 0,
   "metadata": {
    "application/vnd.databricks.v1+cell": {
     "cellMetadata": {},
     "inputWidgets": {},
     "nuid": "c38026d0-9299-41a8-8a70-f19726dd14cc",
     "showTitle": false,
     "title": ""
    }
   },
   "outputs": [
    {
     "output_type": "display_data",
     "data": {
      "text/html": [
       "<style scoped>\n",
       "  .table-result-container {\n",
       "    max-height: 300px;\n",
       "    overflow: auto;\n",
       "  }\n",
       "  table, th, td {\n",
       "    border: 1px solid black;\n",
       "    border-collapse: collapse;\n",
       "  }\n",
       "  th, td {\n",
       "    padding: 5px;\n",
       "  }\n",
       "  th {\n",
       "    text-align: left;\n",
       "  }\n",
       "</style><div class='table-result-container'><table class='table-result'><thead style='background-color: white'><tr><th>MMSI</th><th>BaseDateTime</th><th>LAT</th><th>LON</th><th>SOG</th><th>COG</th><th>Heading</th><th>VesselName</th><th>IMO</th><th>CallSign</th><th>VesselType</th><th>Status</th><th>Length</th><th>Width</th><th>Draft</th><th>Cargo</th><th>TranscieverClass</th><th>filename</th><th>VesselGroup</th></tr></thead><tbody><tr><td>367777550</td><td>2022-06-01T00:00:02.000+0000</td><td>28.10198</td><td>-96.93931</td><td>0</td><td>360</td><td>511</td><td>HARRY LEE</td><td>null</td><td>WDJ4420</td><td>52</td><td>0</td><td>0</td><td>0</td><td>0</td><td>52</td><td>A</td><td>dbfs:/FileStore/tables/AIS_2022_06_01.csv</td><td>52</td></tr><tr><td>367544180</td><td>2022-06-01T00:00:07.000+0000</td><td>46.16795</td><td>-123.9143</td><td>0</td><td>342.5</td><td>511</td><td>JEANNE ARAIN</td><td>null</td><td>WDG5186</td><td>30</td><td>15</td><td>18</td><td>null</td><td>null</td><td>30</td><td>A</td><td>dbfs:/FileStore/tables/AIS_2022_06_01.csv</td><td>30</td></tr><tr><td>368001000</td><td>2022-06-01T00:00:04.000+0000</td><td>29.05437</td><td>-90.2301</td><td>7.9</td><td>180</td><td>168</td><td>GRANT CANDIES</td><td>IMO9481374</td><td>WDE5747</td><td>90</td><td>0</td><td>89</td><td>18</td><td>6</td><td>0</td><td>A</td><td>dbfs:/FileStore/tables/AIS_2022_06_01.csv</td><td>90</td></tr><tr><td>366772750</td><td>2022-06-01T00:00:04.000+0000</td><td>48.52818</td><td>-122.801</td><td>16.2</td><td>276.1</td><td>277</td><td>WSF YAKIMA</td><td>IMO8835360</td><td>WCD7863</td><td>60</td><td>0</td><td>116</td><td>22</td><td>5.5</td><td>60</td><td>A</td><td>dbfs:/FileStore/tables/AIS_2022_06_01.csv</td><td>60</td></tr><tr><td>368102480</td><td>2022-06-01T00:00:03.000+0000</td><td>32.77822</td><td>-79.95351</td><td>0</td><td>360</td><td>511</td><td>CHARLESTON PRINCESS</td><td>null</td><td>WDK9315</td><td>69</td><td>0</td><td>69</td><td>19</td><td>2.2</td><td>69</td><td>A</td><td>dbfs:/FileStore/tables/AIS_2022_06_01.csv</td><td>69</td></tr></tbody></table></div>"
      ]
     },
     "metadata": {
      "application/vnd.databricks.v1+output": {
       "addedWidgets": {},
       "aggData": [],
       "aggError": "",
       "aggOverflow": false,
       "aggSchema": [],
       "aggSeriesLimitReached": false,
       "aggType": "",
       "arguments": {},
       "columnCustomDisplayInfos": {},
       "data": [
        [
         "367777550",
         "2022-06-01T00:00:02.000+0000",
         28.10198,
         -96.93931,
         0,
         360,
         511,
         "HARRY LEE",
         null,
         "WDJ4420",
         52,
         0,
         0,
         0,
         0,
         "52",
         "A",
         "dbfs:/FileStore/tables/AIS_2022_06_01.csv",
         52
        ],
        [
         "367544180",
         "2022-06-01T00:00:07.000+0000",
         46.16795,
         -123.9143,
         0,
         342.5,
         511,
         "JEANNE ARAIN",
         null,
         "WDG5186",
         30,
         15,
         18,
         null,
         null,
         "30",
         "A",
         "dbfs:/FileStore/tables/AIS_2022_06_01.csv",
         30
        ],
        [
         "368001000",
         "2022-06-01T00:00:04.000+0000",
         29.05437,
         -90.2301,
         7.9,
         180,
         168,
         "GRANT CANDIES",
         "IMO9481374",
         "WDE5747",
         90,
         0,
         89,
         18,
         6,
         "0",
         "A",
         "dbfs:/FileStore/tables/AIS_2022_06_01.csv",
         90
        ],
        [
         "366772750",
         "2022-06-01T00:00:04.000+0000",
         48.52818,
         -122.801,
         16.2,
         276.1,
         277,
         "WSF YAKIMA",
         "IMO8835360",
         "WCD7863",
         60,
         0,
         116,
         22,
         5.5,
         "60",
         "A",
         "dbfs:/FileStore/tables/AIS_2022_06_01.csv",
         60
        ],
        [
         "368102480",
         "2022-06-01T00:00:03.000+0000",
         32.77822,
         -79.95351,
         0,
         360,
         511,
         "CHARLESTON PRINCESS",
         null,
         "WDK9315",
         69,
         0,
         69,
         19,
         2.2,
         "69",
         "A",
         "dbfs:/FileStore/tables/AIS_2022_06_01.csv",
         69
        ]
       ],
       "datasetInfos": [],
       "dbfsResultPath": null,
       "isJsonSchema": true,
       "metadata": {},
       "overflow": false,
       "plotOptions": {
        "customPlotOptions": {},
        "displayType": "table",
        "pivotAggregation": null,
        "pivotColumns": null,
        "xColumns": null,
        "yColumns": null
       },
       "removedWidgets": [],
       "schema": [
        {
         "metadata": "{}",
         "name": "MMSI",
         "type": "\"string\""
        },
        {
         "metadata": "{}",
         "name": "BaseDateTime",
         "type": "\"timestamp\""
        },
        {
         "metadata": "{}",
         "name": "LAT",
         "type": "\"double\""
        },
        {
         "metadata": "{}",
         "name": "LON",
         "type": "\"double\""
        },
        {
         "metadata": "{}",
         "name": "SOG",
         "type": "\"double\""
        },
        {
         "metadata": "{}",
         "name": "COG",
         "type": "\"double\""
        },
        {
         "metadata": "{}",
         "name": "Heading",
         "type": "\"double\""
        },
        {
         "metadata": "{}",
         "name": "VesselName",
         "type": "\"string\""
        },
        {
         "metadata": "{}",
         "name": "IMO",
         "type": "\"string\""
        },
        {
         "metadata": "{}",
         "name": "CallSign",
         "type": "\"string\""
        },
        {
         "metadata": "{}",
         "name": "VesselType",
         "type": "\"integer\""
        },
        {
         "metadata": "{}",
         "name": "Status",
         "type": "\"integer\""
        },
        {
         "metadata": "{}",
         "name": "Length",
         "type": "\"double\""
        },
        {
         "metadata": "{}",
         "name": "Width",
         "type": "\"double\""
        },
        {
         "metadata": "{}",
         "name": "Draft",
         "type": "\"double\""
        },
        {
         "metadata": "{}",
         "name": "Cargo",
         "type": "\"string\""
        },
        {
         "metadata": "{}",
         "name": "TranscieverClass",
         "type": "\"string\""
        },
        {
         "metadata": "{}",
         "name": "filename",
         "type": "\"string\""
        },
        {
         "metadata": "{}",
         "name": "VesselGroup",
         "type": "\"integer\""
        }
       ],
       "type": "table"
      }
     },
     "output_type": "display_data"
    }
   ],
   "source": [
    "%sql\n",
    "SELECT * FROM ais.june LIMIT 5;"
   ]
  },
  {
   "cell_type": "code",
   "execution_count": 0,
   "metadata": {
    "application/vnd.databricks.v1+cell": {
     "cellMetadata": {},
     "inputWidgets": {},
     "nuid": "a90e2106-d704-43ca-92d9-6913a2ed6a4f",
     "showTitle": false,
     "title": ""
    }
   },
   "outputs": [
    {
     "output_type": "stream",
     "name": "stdout",
     "output_type": "stream",
     "text": [
      "Hypothesis Test Results:\np-value: 0.3745965444646247\n"
     ]
    }
   ],
   "source": [
    "from pyspark.sql import SparkSession\n",
    "from pyspark.sql.functions import col, expr\n",
    "\n",
    "# Create a SparkSession\n",
    "spark = SparkSession.builder.getOrCreate()\n",
    "\n",
    "# Load the AIS June table into a DataFrame\n",
    "ais_june_df = spark.read.table(\"ais.june\")\n",
    "\n",
    "# Filter the DataFrame for rows where Cargo is not null and cast Cargo as an integer\n",
    "cargo_int_df = ais_june_df.filter(col(\"Cargo\").isNotNull()).withColumn(\"CargoInt\", col(\"Cargo\").cast(\"integer\"))\n",
    "\n",
    "# Calculate the count of rows where Cargo is an integer equal to VesselType\n",
    "count_matching_rows = cargo_int_df.filter(col(\"CargoInt\") == col(\"VesselType\")).count()\n",
    "\n",
    "# Calculate the total count of rows\n",
    "total_count = ais_june_df.count()\n",
    "\n",
    "# Perform the hypothesis test by comparing the count of matching rows to the total count\n",
    "p_value = count_matching_rows / total_count\n",
    "\n",
    "# Print the p-value\n",
    "print(\"Hypothesis Test Results:\")\n",
    "print(f\"p-value: {p_value}\")"
   ]
  },
  {
   "cell_type": "code",
   "execution_count": 0,
   "metadata": {
    "application/vnd.databricks.v1+cell": {
     "cellMetadata": {
      "byteLimit": 2048000,
      "rowLimit": 10000
     },
     "inputWidgets": {},
     "nuid": "1f96d95a-26a0-45bd-b2bf-a2f3e110ee75",
     "showTitle": false,
     "title": ""
    }
   },
   "outputs": [
    {
     "output_type": "display_data",
     "data": {
      "text/html": [
       "<style scoped>\n",
       "  .table-result-container {\n",
       "    max-height: 300px;\n",
       "    overflow: auto;\n",
       "  }\n",
       "  table, th, td {\n",
       "    border: 1px solid black;\n",
       "    border-collapse: collapse;\n",
       "  }\n",
       "  th, td {\n",
       "    padding: 5px;\n",
       "  }\n",
       "  th {\n",
       "    text-align: left;\n",
       "  }\n",
       "</style><div class='table-result-container'><table class='table-result'><thead style='background-color: white'><tr><th>Cargo</th></tr></thead><tbody><tr><td>51</td></tr><tr><td>7</td></tr><tr><td>54</td></tr><tr><td>200</td></tr><tr><td>11</td></tr><tr><td>69</td></tr><tr><td>29</td></tr><tr><td>42</td></tr><tr><td>73</td></tr><tr><td>64</td></tr><tr><td>3</td></tr><tr><td>30</td></tr><tr><td>34</td></tr><tr><td>59</td></tr><tr><td>8</td></tr><tr><td>22</td></tr><tr><td>28</td></tr><tr><td>52</td></tr><tr><td>35</td></tr><tr><td>16</td></tr><tr><td>0</td></tr><tr><td>71</td></tr><tr><td>98</td></tr><tr><td>47</td></tr><tr><td>99</td></tr><tr><td>null</td></tr><tr><td>96</td></tr><tr><td>43</td></tr><tr><td>5</td></tr><tr><td>31</td></tr><tr><td>18</td></tr><tr><td>70</td></tr><tr><td>61</td></tr><tr><td>75</td></tr><tr><td>78</td></tr><tr><td>89</td></tr><tr><td>77</td></tr><tr><td>6</td></tr><tr><td>60</td></tr><tr><td>90</td></tr><tr><td>68</td></tr><tr><td>19</td></tr><tr><td>23</td></tr><tr><td>128</td></tr><tr><td>55</td></tr><tr><td>95</td></tr><tr><td>93</td></tr><tr><td>38</td></tr><tr><td>40</td></tr><tr><td>25</td></tr><tr><td>44</td></tr><tr><td>82</td></tr><tr><td>53</td></tr><tr><td>92</td></tr><tr><td>58</td></tr><tr><td>81</td></tr><tr><td>33</td></tr><tr><td>97</td></tr><tr><td>67</td></tr><tr><td>84</td></tr><tr><td>79</td></tr><tr><td>9</td></tr><tr><td>32</td></tr><tr><td>88</td></tr><tr><td>1</td></tr><tr><td>20</td></tr><tr><td>56</td></tr><tr><td>36</td></tr><tr><td>10</td></tr><tr><td>37</td></tr><tr><td>49</td></tr><tr><td>65</td></tr><tr><td>4</td></tr><tr><td>39</td></tr><tr><td>62</td></tr><tr><td>12</td></tr><tr><td>83</td></tr><tr><td>157</td></tr><tr><td>21</td></tr><tr><td>66</td></tr><tr><td>91</td></tr><tr><td>94</td></tr><tr><td>74</td></tr><tr><td>72</td></tr><tr><td>76</td></tr><tr><td>2</td></tr><tr><td>80</td></tr><tr><td>50</td></tr><tr><td>57</td></tr><tr><td>45</td></tr><tr><td>154</td></tr><tr><td>85</td></tr><tr><td>27</td></tr><tr><td>46</td></tr><tr><td>41</td></tr><tr><td>15</td></tr><tr><td>87</td></tr><tr><td>24</td></tr><tr><td>159</td></tr><tr><td>230</td></tr><tr><td>208</td></tr><tr><td>180</td></tr><tr><td>191</td></tr><tr><td>252</td></tr></tbody></table></div>"
      ]
     },
     "metadata": {
      "application/vnd.databricks.v1+output": {
       "addedWidgets": {},
       "aggData": [],
       "aggError": "",
       "aggOverflow": false,
       "aggSchema": [],
       "aggSeriesLimitReached": false,
       "aggType": "",
       "arguments": {},
       "columnCustomDisplayInfos": {},
       "data": [
        [
         "51"
        ],
        [
         "7"
        ],
        [
         "54"
        ],
        [
         "200"
        ],
        [
         "11"
        ],
        [
         "69"
        ],
        [
         "29"
        ],
        [
         "42"
        ],
        [
         "73"
        ],
        [
         "64"
        ],
        [
         "3"
        ],
        [
         "30"
        ],
        [
         "34"
        ],
        [
         "59"
        ],
        [
         "8"
        ],
        [
         "22"
        ],
        [
         "28"
        ],
        [
         "52"
        ],
        [
         "35"
        ],
        [
         "16"
        ],
        [
         "0"
        ],
        [
         "71"
        ],
        [
         "98"
        ],
        [
         "47"
        ],
        [
         "99"
        ],
        [
         null
        ],
        [
         "96"
        ],
        [
         "43"
        ],
        [
         "5"
        ],
        [
         "31"
        ],
        [
         "18"
        ],
        [
         "70"
        ],
        [
         "61"
        ],
        [
         "75"
        ],
        [
         "78"
        ],
        [
         "89"
        ],
        [
         "77"
        ],
        [
         "6"
        ],
        [
         "60"
        ],
        [
         "90"
        ],
        [
         "68"
        ],
        [
         "19"
        ],
        [
         "23"
        ],
        [
         "128"
        ],
        [
         "55"
        ],
        [
         "95"
        ],
        [
         "93"
        ],
        [
         "38"
        ],
        [
         "40"
        ],
        [
         "25"
        ],
        [
         "44"
        ],
        [
         "82"
        ],
        [
         "53"
        ],
        [
         "92"
        ],
        [
         "58"
        ],
        [
         "81"
        ],
        [
         "33"
        ],
        [
         "97"
        ],
        [
         "67"
        ],
        [
         "84"
        ],
        [
         "79"
        ],
        [
         "9"
        ],
        [
         "32"
        ],
        [
         "88"
        ],
        [
         "1"
        ],
        [
         "20"
        ],
        [
         "56"
        ],
        [
         "36"
        ],
        [
         "10"
        ],
        [
         "37"
        ],
        [
         "49"
        ],
        [
         "65"
        ],
        [
         "4"
        ],
        [
         "39"
        ],
        [
         "62"
        ],
        [
         "12"
        ],
        [
         "83"
        ],
        [
         "157"
        ],
        [
         "21"
        ],
        [
         "66"
        ],
        [
         "91"
        ],
        [
         "94"
        ],
        [
         "74"
        ],
        [
         "72"
        ],
        [
         "76"
        ],
        [
         "2"
        ],
        [
         "80"
        ],
        [
         "50"
        ],
        [
         "57"
        ],
        [
         "45"
        ],
        [
         "154"
        ],
        [
         "85"
        ],
        [
         "27"
        ],
        [
         "46"
        ],
        [
         "41"
        ],
        [
         "15"
        ],
        [
         "87"
        ],
        [
         "24"
        ],
        [
         "159"
        ],
        [
         "230"
        ],
        [
         "208"
        ],
        [
         "180"
        ],
        [
         "191"
        ],
        [
         "252"
        ]
       ],
       "datasetInfos": [],
       "dbfsResultPath": null,
       "isJsonSchema": true,
       "metadata": {},
       "overflow": false,
       "plotOptions": {
        "customPlotOptions": {},
        "displayType": "table",
        "pivotAggregation": null,
        "pivotColumns": null,
        "xColumns": null,
        "yColumns": null
       },
       "removedWidgets": [],
       "schema": [
        {
         "metadata": "{}",
         "name": "Cargo",
         "type": "\"string\""
        }
       ],
       "type": "table"
      }
     },
     "output_type": "display_data"
    }
   ],
   "source": [
    "from pyspark.sql import SparkSession\n",
    "\n",
    "# Create a SparkSession\n",
    "spark = SparkSession.builder.getOrCreate()\n",
    "\n",
    "# Read the \"ais.june\" table into a DataFrame\n",
    "ais_june_df = spark.read.table(\"ais.june\")\n",
    "\n",
    "# Select distinct values of the \"Cargo\" attribute\n",
    "distinct_cargo_values = ais_june_df.select(\"Cargo\").distinct()\n",
    "\n",
    "# Show the distinct cargo values\n",
    "display(distinct_cargo_values)\n"
   ]
  },
  {
   "cell_type": "code",
   "execution_count": 0,
   "metadata": {
    "application/vnd.databricks.v1+cell": {
     "cellMetadata": {
      "byteLimit": 2048000,
      "rowLimit": 10000
     },
     "inputWidgets": {},
     "nuid": "1d5f2129-f7f6-4dc4-9b67-2834e945eb7d",
     "showTitle": false,
     "title": ""
    }
   },
   "outputs": [
    {
     "output_type": "display_data",
     "data": {
      "text/html": [
       "<style scoped>\n",
       "  .table-result-container {\n",
       "    max-height: 300px;\n",
       "    overflow: auto;\n",
       "  }\n",
       "  table, th, td {\n",
       "    border: 1px solid black;\n",
       "    border-collapse: collapse;\n",
       "  }\n",
       "  th, td {\n",
       "    padding: 5px;\n",
       "  }\n",
       "  th {\n",
       "    text-align: left;\n",
       "  }\n",
       "</style><div class='table-result-container'><table class='table-result'><thead style='background-color: white'><tr><th>VesselType</th></tr></thead><tbody><tr><td>31</td></tr><tr><td>65</td></tr><tr><td>53</td></tr><tr><td>255</td></tr><tr><td>34</td></tr><tr><td>81</td></tr><tr><td>76</td></tr><tr><td>12</td></tr><tr><td>91</td></tr><tr><td>47</td></tr><tr><td>null</td></tr><tr><td>1</td></tr><tr><td>52</td></tr><tr><td>6</td></tr><tr><td>16</td></tr><tr><td>3</td></tr><tr><td>20</td></tr><tr><td>40</td></tr><tr><td>57</td></tr><tr><td>54</td></tr><tr><td>19</td></tr><tr><td>37</td></tr><tr><td>9</td></tr><tr><td>72</td></tr><tr><td>35</td></tr><tr><td>55</td></tr><tr><td>59</td></tr><tr><td>39</td></tr><tr><td>23</td></tr><tr><td>49</td></tr><tr><td>7</td></tr><tr><td>84</td></tr><tr><td>51</td></tr><tr><td>69</td></tr><tr><td>97</td></tr><tr><td>10</td></tr><tr><td>50</td></tr><tr><td>38</td></tr><tr><td>82</td></tr><tr><td>80</td></tr><tr><td>73</td></tr><tr><td>25</td></tr><tr><td>70</td></tr><tr><td>95</td></tr><tr><td>98</td></tr><tr><td>60</td></tr><tr><td>90</td></tr><tr><td>32</td></tr><tr><td>75</td></tr><tr><td>200</td></tr><tr><td>56</td></tr><tr><td>58</td></tr><tr><td>33</td></tr><tr><td>83</td></tr><tr><td>71</td></tr><tr><td>68</td></tr><tr><td>79</td></tr><tr><td>30</td></tr><tr><td>99</td></tr><tr><td>66</td></tr><tr><td>67</td></tr><tr><td>0</td></tr><tr><td>18</td></tr><tr><td>74</td></tr><tr><td>36</td></tr><tr><td>89</td></tr><tr><td>29</td></tr><tr><td>154</td></tr><tr><td>88</td></tr><tr><td>94</td></tr><tr><td>96</td></tr><tr><td>107</td></tr><tr><td>85</td></tr><tr><td>78</td></tr><tr><td>24</td></tr><tr><td>5</td></tr></tbody></table></div>"
      ]
     },
     "metadata": {
      "application/vnd.databricks.v1+output": {
       "addedWidgets": {},
       "aggData": [],
       "aggError": "",
       "aggOverflow": false,
       "aggSchema": [],
       "aggSeriesLimitReached": false,
       "aggType": "",
       "arguments": {},
       "columnCustomDisplayInfos": {},
       "data": [
        [
         31
        ],
        [
         65
        ],
        [
         53
        ],
        [
         255
        ],
        [
         34
        ],
        [
         81
        ],
        [
         76
        ],
        [
         12
        ],
        [
         91
        ],
        [
         47
        ],
        [
         null
        ],
        [
         1
        ],
        [
         52
        ],
        [
         6
        ],
        [
         16
        ],
        [
         3
        ],
        [
         20
        ],
        [
         40
        ],
        [
         57
        ],
        [
         54
        ],
        [
         19
        ],
        [
         37
        ],
        [
         9
        ],
        [
         72
        ],
        [
         35
        ],
        [
         55
        ],
        [
         59
        ],
        [
         39
        ],
        [
         23
        ],
        [
         49
        ],
        [
         7
        ],
        [
         84
        ],
        [
         51
        ],
        [
         69
        ],
        [
         97
        ],
        [
         10
        ],
        [
         50
        ],
        [
         38
        ],
        [
         82
        ],
        [
         80
        ],
        [
         73
        ],
        [
         25
        ],
        [
         70
        ],
        [
         95
        ],
        [
         98
        ],
        [
         60
        ],
        [
         90
        ],
        [
         32
        ],
        [
         75
        ],
        [
         200
        ],
        [
         56
        ],
        [
         58
        ],
        [
         33
        ],
        [
         83
        ],
        [
         71
        ],
        [
         68
        ],
        [
         79
        ],
        [
         30
        ],
        [
         99
        ],
        [
         66
        ],
        [
         67
        ],
        [
         0
        ],
        [
         18
        ],
        [
         74
        ],
        [
         36
        ],
        [
         89
        ],
        [
         29
        ],
        [
         154
        ],
        [
         88
        ],
        [
         94
        ],
        [
         96
        ],
        [
         107
        ],
        [
         85
        ],
        [
         78
        ],
        [
         24
        ],
        [
         5
        ]
       ],
       "datasetInfos": [],
       "dbfsResultPath": null,
       "isJsonSchema": true,
       "metadata": {},
       "overflow": false,
       "plotOptions": {
        "customPlotOptions": {},
        "displayType": "table",
        "pivotAggregation": null,
        "pivotColumns": null,
        "xColumns": null,
        "yColumns": null
       },
       "removedWidgets": [],
       "schema": [
        {
         "metadata": "{}",
         "name": "VesselType",
         "type": "\"integer\""
        }
       ],
       "type": "table"
      }
     },
     "output_type": "display_data"
    }
   ],
   "source": [
    "from pyspark.sql import SparkSession\n",
    "\n",
    "# Create a SparkSession\n",
    "spark = SparkSession.builder.getOrCreate()\n",
    "\n",
    "# Read the \"ais.june\" table into a DataFrame\n",
    "ais_june_df = spark.read.table(\"ais.june\")\n",
    "\n",
    "# Select distinct values of the \"Cargo\" attribute\n",
    "distinct_vesseltype_values = ais_june_df.select(\"VesselType\").distinct()\n",
    "\n",
    "# Show the distinct cargo values\n",
    "display(distinct_vesseltype_values)\n"
   ]
  },
  {
   "cell_type": "code",
   "execution_count": 0,
   "metadata": {
    "application/vnd.databricks.v1+cell": {
     "cellMetadata": {
      "byteLimit": 2048000,
      "rowLimit": 10000
     },
     "inputWidgets": {},
     "nuid": "152c5e56-2c9b-4126-9f8c-583a84a77ba9",
     "showTitle": false,
     "title": ""
    }
   },
   "outputs": [
    {
     "output_type": "display_data",
     "data": {
      "text/html": [
       "<style scoped>\n",
       "  .table-result-container {\n",
       "    max-height: 300px;\n",
       "    overflow: auto;\n",
       "  }\n",
       "  table, th, td {\n",
       "    border: 1px solid black;\n",
       "    border-collapse: collapse;\n",
       "  }\n",
       "  th, td {\n",
       "    padding: 5px;\n",
       "  }\n",
       "  th {\n",
       "    text-align: left;\n",
       "  }\n",
       "</style><div class='table-result-container'><table class='table-result'><thead style='background-color: white'><tr><th>Cargo</th></tr></thead><tbody><tr><td>15</td></tr><tr><td>11</td></tr><tr><td>42</td></tr><tr><td>87</td></tr><tr><td>64</td></tr><tr><td>8</td></tr><tr><td>22</td></tr><tr><td>28</td></tr><tr><td>43</td></tr><tr><td>61</td></tr><tr><td>27</td></tr><tr><td>46</td></tr><tr><td>208</td></tr><tr><td>77</td></tr><tr><td>230</td></tr><tr><td>128</td></tr><tr><td>41</td></tr><tr><td>93</td></tr><tr><td>44</td></tr><tr><td>92</td></tr><tr><td>180</td></tr><tr><td>159</td></tr><tr><td>4</td></tr><tr><td>252</td></tr><tr><td>62</td></tr><tr><td>157</td></tr><tr><td>191</td></tr><tr><td>21</td></tr><tr><td>2</td></tr><tr><td>45</td></tr></tbody></table></div>"
      ]
     },
     "metadata": {
      "application/vnd.databricks.v1+output": {
       "addedWidgets": {},
       "aggData": [],
       "aggError": "",
       "aggOverflow": false,
       "aggSchema": [],
       "aggSeriesLimitReached": false,
       "aggType": "",
       "arguments": {},
       "columnCustomDisplayInfos": {},
       "data": [
        [
         "15"
        ],
        [
         "11"
        ],
        [
         "42"
        ],
        [
         "87"
        ],
        [
         "64"
        ],
        [
         "8"
        ],
        [
         "22"
        ],
        [
         "28"
        ],
        [
         "43"
        ],
        [
         "61"
        ],
        [
         "27"
        ],
        [
         "46"
        ],
        [
         "208"
        ],
        [
         "77"
        ],
        [
         "230"
        ],
        [
         "128"
        ],
        [
         "41"
        ],
        [
         "93"
        ],
        [
         "44"
        ],
        [
         "92"
        ],
        [
         "180"
        ],
        [
         "159"
        ],
        [
         "4"
        ],
        [
         "252"
        ],
        [
         "62"
        ],
        [
         "157"
        ],
        [
         "191"
        ],
        [
         "21"
        ],
        [
         "2"
        ],
        [
         "45"
        ]
       ],
       "datasetInfos": [],
       "dbfsResultPath": null,
       "isJsonSchema": true,
       "metadata": {},
       "overflow": false,
       "plotOptions": {
        "customPlotOptions": {},
        "displayType": "table",
        "pivotAggregation": null,
        "pivotColumns": null,
        "xColumns": null,
        "yColumns": null
       },
       "removedWidgets": [],
       "schema": [
        {
         "metadata": "{}",
         "name": "Cargo",
         "type": "\"string\""
        }
       ],
       "type": "table"
      }
     },
     "output_type": "display_data"
    }
   ],
   "source": [
    "from pyspark.sql.functions import col\n",
    "\n",
    "# Cast \"VesselType\" to string in distinct_vesseltype_values DataFrame\n",
    "distinct_vesseltype_values = distinct_vesseltype_values.withColumn(\"VesselTypeStr\", col(\"VesselType\").cast(\"string\"))\n",
    "\n",
    "# Find the symmetric difference between \"Cargo\" and \"VesselType\" values\n",
    "symmetric_difference = distinct_cargo_values.select(\"Cargo\").exceptAll(distinct_vesseltype_values.select(\"VesselTypeStr\"))\n",
    "\n",
    "# Show the symmetric difference\n",
    "display(symmetric_difference)"
   ]
  },
  {
   "cell_type": "code",
   "execution_count": 0,
   "metadata": {
    "application/vnd.databricks.v1+cell": {
     "cellMetadata": {
      "byteLimit": 2048000,
      "rowLimit": 10000
     },
     "inputWidgets": {},
     "nuid": "3460d2bf-d603-4dfc-b95f-e99064a4bdcd",
     "showTitle": false,
     "title": ""
    }
   },
   "outputs": [
    {
     "output_type": "stream",
     "name": "stdout",
     "output_type": "stream",
     "text": [
      "+--------+\n|CargoInt|\n+--------+\n|2       |\n|4       |\n|8       |\n|11      |\n|15      |\n|21      |\n|22      |\n|27      |\n|28      |\n|41      |\n|42      |\n|43      |\n|44      |\n|45      |\n|46      |\n|61      |\n|62      |\n|64      |\n|77      |\n|87      |\n+--------+\nonly showing top 20 rows\n\n"
     ]
    }
   ],
   "source": [
    "from pyspark.sql.functions import col\n",
    "\n",
    "# Cast \"Cargo\" to integer in distinct_cargo_values DataFrame\n",
    "distinct_cargo_values = distinct_cargo_values.withColumn(\"CargoInt\", col(\"Cargo\").cast(\"integer\"))\n",
    "\n",
    "# Find the symmetric difference between \"Cargo\" and \"VesselType\" values\n",
    "symmetric_difference = distinct_cargo_values.select(\"CargoInt\").exceptAll(distinct_vesseltype_values.select(\"VesselType\"))\n",
    "\n",
    "# Sort the symmetric difference in ascending order of \"CargoInt\"\n",
    "sorted_symmetric_difference = symmetric_difference.orderBy(\"CargoInt\")\n",
    "\n",
    "# Show the sorted symmetric difference\n",
    "sorted_symmetric_difference.show(truncate=False)"
   ]
  },
  {
   "cell_type": "code",
   "execution_count": 0,
   "metadata": {
    "application/vnd.databricks.v1+cell": {
     "cellMetadata": {
      "byteLimit": 2048000,
      "rowLimit": 10000
     },
     "inputWidgets": {},
     "nuid": "a76c2ac7-2222-4ab8-b74a-8b22a6201772",
     "showTitle": false,
     "title": ""
    }
   },
   "outputs": [
    {
     "output_type": "stream",
     "name": "stdout",
     "output_type": "stream",
     "text": [
      "Number of rows where VesselType = CAST(Cargo as int): 93396700\n"
     ]
    }
   ],
   "source": [
    "from pyspark.sql.functions import col\n",
    "\n",
    "# Count the number of rows where VesselType is equal to casted Cargo\n",
    "count_matching_rows = ais_june_df.filter(col(\"VesselType\") == col(\"Cargo\").cast(\"integer\")).count()\n",
    "\n",
    "# Print the count\n",
    "print(\"Number of rows where VesselType = CAST(Cargo as int):\", count_matching_rows)"
   ]
  },
  {
   "cell_type": "code",
   "execution_count": 0,
   "metadata": {
    "application/vnd.databricks.v1+cell": {
     "cellMetadata": {
      "byteLimit": 2048000,
      "rowLimit": 10000
     },
     "inputWidgets": {},
     "nuid": "5d769d1d-0f8f-4101-91b1-2079ee4116f9",
     "showTitle": false,
     "title": ""
    }
   },
   "outputs": [
    {
     "output_type": "stream",
     "name": "stdout",
     "output_type": "stream",
     "text": [
      "Number of rows where VesselType != CAST(Cargo as int): 82956500\n"
     ]
    }
   ],
   "source": [
    "from pyspark.sql.functions import col\n",
    "\n",
    "# Count the number of rows where VesselType is not equal to casted Cargo\n",
    "count_non_matching_rows = ais_june_df.filter(col(\"VesselType\") != col(\"Cargo\").cast(\"integer\")).count()\n",
    "\n",
    "# Print the count\n",
    "print(\"Number of rows where VesselType != CAST(Cargo as int):\", count_non_matching_rows)"
   ]
  },
  {
   "cell_type": "code",
   "execution_count": 0,
   "metadata": {
    "application/vnd.databricks.v1+cell": {
     "cellMetadata": {
      "byteLimit": 2048000,
      "rowLimit": 10000
     },
     "inputWidgets": {},
     "nuid": "d54af482-3395-4b78-9804-2a0398a97845",
     "showTitle": false,
     "title": ""
    }
   },
   "outputs": [
    {
     "output_type": "display_data",
     "data": {
      "image/png": "[encoded data removed]"
     },
     "metadata": {
      "application/vnd.databricks.v1+output": {
       "addedWidgets": {},
       "arguments": {},
       "data": "data:image/png;base64,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\n",
       "datasetInfos": [],
       "metadata": {},
       "removedWidgets": [],
       "type": "image"
      }
     },
     "output_type": "display_data"
    }
   ],
   "source": [
    "# Filter out missing or invalid values from SOG column\n",
    "valid_ais_speed_df = ais_speed_df.filter(col(\"SOG\").isNotNull() & (col(\"SOG\") > 0))\n",
    "\n",
    "# Calculate the groups A, B, and C based on the conditions\n",
    "group_a_speeds = valid_ais_speed_df.filter(col(\"VesselType\") == expr(\"CAST(Cargo AS INT)\")).select(\"SOG\").rdd.flatMap(lambda x: x).collect()\n",
    "group_b_speeds = valid_ais_speed_df.filter((col(\"VesselType\") != expr(\"CAST(Cargo AS INT)\")) | col(\"Cargo\").isNull()).select(\"SOG\").rdd.flatMap(lambda x: x).collect()\n",
    "group_c_speeds = valid_ais_speed_df.filter(col(\"Cargo\").isNull()).select(\"SOG\").rdd.flatMap(lambda x: x).collect()\n",
    "\n",
    "# Set the figure size using figsize\n",
    "plt.figure(figsize=(12, 8))\n",
    "\n",
    "# Plot KDEs for the three groups using Seaborn\n",
    "sns.kdeplot(data=group_a_speeds, shade=True, label=\"Group A\")\n",
    "sns.kdeplot(data=group_b_speeds, shade=True, label=\"Group B\")\n",
    "sns.kdeplot(data=group_c_speeds, shade=True, label=\"Group C\")\n",
    "\n",
    "# Set plot labels and title\n",
    "plt.xlabel(\"Vessel Speed (SOG)\")\n",
    "plt.ylabel(\"Density\")\n",
    "plt.title(\"Kernel Density Estimation (KDE) of Vessel Speed\")\n",
    "plt.legend()\n",
    "\n",
    "# Show the plot\n",
    "plt.show()\n"
   ]
  },
  {
   "cell_type": "code",
   "execution_count": 0,
   "metadata": {
    "application/vnd.databricks.v1+cell": {
     "cellMetadata": {
      "byteLimit": 2048000,
      "rowLimit": 10000
     },
     "inputWidgets": {},
     "nuid": "0a9722a4-4df8-4a2f-bf17-8486e1843df7",
     "showTitle": false,
     "title": ""
    }
   },
   "outputs": [
    {
     "output_type": "display_data",
     "data": {
      "image/png": "[encoded data removed]"
     },
     "metadata": {
      "application/vnd.databricks.v1+output": {
       "addedWidgets": {},
       "arguments": {},
       "data": "data:image/png;base64,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\n",
       "datasetInfos": [],
       "metadata": {},
       "removedWidgets": [],
       "type": "image"
      }
     },
     "output_type": "display_data"
    }
   ],
   "source": [
    "import numpy as np\n",
    "\n",
    "# Apply log transformation to the data\n",
    "log_group_a_speeds = np.log(group_a_speeds)\n",
    "log_group_b_speeds = np.log(group_b_speeds)\n",
    "log_group_c_speeds = np.log(group_c_speeds)\n",
    "\n",
    "# Set the figure size using figsize\n",
    "plt.figure(figsize=(12, 8))\n",
    "\n",
    "# Plot KDEs for the three groups using Seaborn\n",
    "sns.kdeplot(data=log_group_a_speeds, shade=True, label=\"Group A (Log Transform)\")\n",
    "sns.kdeplot(data=log_group_b_speeds, shade=True, label=\"Group B (Log Transform)\")\n",
    "sns.kdeplot(data=log_group_c_speeds, shade=True, label=\"Group C (Log Transform)\")\n",
    "\n",
    "# Set plot labels and title\n",
    "plt.xlabel(\"Log Vessel Speed (SOG)\")\n",
    "plt.ylabel(\"Density\")\n",
    "plt.title(\"Kernel Density Estimation (KDE) of Log Vessel Speed\")\n",
    "plt.legend()\n",
    "\n",
    "# Show the plot\n",
    "plt.show()"
   ]
  },
  {
   "cell_type": "code",
   "execution_count": 0,
   "metadata": {
    "application/vnd.databricks.v1+cell": {
     "cellMetadata": {
      "byteLimit": 2048000,
      "rowLimit": 10000
     },
     "inputWidgets": {},
     "nuid": "6cb0c6ad-bef0-47d1-a584-bc02969bb225",
     "showTitle": false,
     "title": ""
    }
   },
   "outputs": [
    {
     "output_type": "stream",
     "name": "stdout",
     "output_type": "stream",
     "text": [
      "Total Row Count: 45427\n"
     ]
    }
   ],
   "source": [
    "from pyspark.sql import SparkSession\n",
    "from pyspark.sql.functions import col, count, approx_count_distinct\n",
    "\n",
    "# Create a SparkSession\n",
    "spark = SparkSession.builder.getOrCreate()\n",
    "\n",
    "# Load the AIS June table into a DataFrame\n",
    "ais_june_df = spark.read.table(\"ais.june\")\n",
    "\n",
    "# Group by MMSI and calculate the count of rows for each MMSI\n",
    "mmsi_row_count = ais_june_df.groupBy(\"MMSI\").agg(count(\"*\").alias(\"RowCount\"))\n",
    "\n",
    "# Group by MMSI and calculate the distinct count of Cargo using approx_count_distinct\n",
    "mmsi_cargo_count = ais_june_df.groupBy(\"MMSI\").agg(approx_count_distinct(\"Cargo\", 0.05).alias(\"DistinctCargoCount\"))\n",
    "\n",
    "# Join the two DataFrames on MMSI\n",
    "mmsi_counts = mmsi_row_count.join(mmsi_cargo_count, \"MMSI\")\n",
    "\n",
    "# Calculate the total count of rows and the total count of distinct cargo values\n",
    "total_row_count = mmsi_counts.select(count(\"*\")).first()[0]\n",
    "\n",
    "# Print the overall statistics\n",
    "print(f\"Total Row Count: {total_row_count}\")"
   ]
  },
  {
   "cell_type": "code",
   "execution_count": 0,
   "metadata": {
    "application/vnd.databricks.v1+cell": {
     "cellMetadata": {
      "byteLimit": 2048000,
      "rowLimit": 10000
     },
     "inputWidgets": {},
     "nuid": "ffd7a5d7-0f52-4123-bc4d-23fa10ae2985",
     "showTitle": false,
     "title": ""
    }
   },
   "outputs": [
    {
     "output_type": "stream",
     "name": "stdout",
     "output_type": "stream",
     "text": [
      "+---------+--------+------------------+\n|MMSI     |RowCount|DistinctCargoCount|\n+---------+--------+------------------+\n|367053940|36352   |2                 |\n|367328790|36100   |2                 |\n|367098280|28174   |2                 |\n|367479650|22611   |2                 |\n|368132360|33230   |2                 |\n|563079000|2184    |2                 |\n|477634900|2539    |3                 |\n|368165680|164     |2                 |\n|366941860|35893   |2                 |\n|367083580|34774   |2                 |\n|255792000|2083    |2                 |\n|367128950|20880   |2                 |\n|538009307|9591    |2                 |\n|256764000|4126    |2                 |\n|366952360|27933   |2                 |\n|366984880|9477    |2                 |\n|368182130|27214   |2                 |\n|367852000|12183   |2                 |\n|720181000|4275    |2                 |\n|367702070|24164   |2                 |\n+---------+--------+------------------+\nonly showing top 20 rows\n\n"
     ]
    }
   ],
   "source": [
    "cargo_type_change = mmsi_counts.filter(col(\"DistinctCargoCount\") > 1)\n",
    "cargo_type_change.show(truncate=False)"
   ]
  },
  {
   "cell_type": "code",
   "execution_count": 0,
   "metadata": {
    "application/vnd.databricks.v1+cell": {
     "cellMetadata": {
      "byteLimit": 2048000,
      "rowLimit": 10000
     },
     "inputWidgets": {},
     "nuid": "96d02545-10c8-48b9-91ac-370d1c2d77b3",
     "showTitle": false,
     "title": ""
    }
   },
   "outputs": [
    {
     "output_type": "stream",
     "name": "stdout",
     "output_type": "stream",
     "text": [
      "Out[26]: 1601"
     ]
    }
   ],
   "source": [
    "cargo_type_change.count()"
   ]
  }
 ],
 "metadata": {
  "application/vnd.databricks.v1+notebook": {
   "dashboards": [],
   "language": "python",
   "notebookMetadata": {
    "pythonIndentUnit": 4
   },
   "notebookName": "Databricks-AIS-13-VesselType-and-Cargo-Attributes",
   "widgets": {}
  }
 },
 "nbformat": 4,
 "nbformat_minor": 0
}
